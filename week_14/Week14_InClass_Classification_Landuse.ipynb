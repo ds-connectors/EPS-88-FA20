{
 "cells": [
  {
   "cell_type": "markdown",
   "metadata": {},
   "source": [
    "# Classification of Land Use\n",
    "\n",
    "- Learn how to use satellite imagery to understand land usage.\n",
    "- Learn how to use patches in matplotlib.\n",
    "- Learn about using the `scikit-learn` python package to classify data.\n",
    "\n",
    "This notebook is modified from Lecture 25 from Lisa Tauxe's course [Python for Earth Science Students](https://nbviewer.jupyter.org/github/ltauxe/Python-for-Earth-Science-Students/tree/master/)."
   ]
  },
  {
   "cell_type": "code",
   "execution_count": null,
   "metadata": {
    "ExecuteTime": {
     "end_time": "2020-03-21T01:43:42.627144Z",
     "start_time": "2020-03-21T01:43:42.613749Z"
    }
   },
   "outputs": [],
   "source": [
    "import numpy as np\n",
    "import pandas as pd\n",
    "import matplotlib.pyplot as plt\n",
    "%matplotlib inline"
   ]
  },
  {
   "cell_type": "markdown",
   "metadata": {},
   "source": [
    "## Supervised Machine Learning"
   ]
  },
  {
   "cell_type": "markdown",
   "metadata": {},
   "source": [
    "### Step 1) Training data - observations with _attribute_ labeled\n",
    "`X,y = make_moons(50,noise=0.15)`\n",
    "`X` is the the data points, `y` is their labels"
   ]
  },
  {
   "cell_type": "code",
   "execution_count": null,
   "metadata": {},
   "outputs": [],
   "source": [
    "from matplotlib.colors import ListedColormap\n",
    "from sklearn.datasets import make_moons\n",
    "\n",
    "X,y = make_moons(50,noise=0.15)\n",
    "\n",
    "cm = plt.cm.RdBu\n",
    "cm_bright = ListedColormap(['#FF0000', '#0000FF'])\n",
    "\n",
    "# plot observations\n",
    "plt.scatter(X[:, 0], X[:, 1], c=y, cmap=cm_bright, edgecolors='k')"
   ]
  },
  {
   "cell_type": "code",
   "execution_count": null,
   "metadata": {},
   "outputs": [],
   "source": [
    "print(X) # training data points"
   ]
  },
  {
   "cell_type": "code",
   "execution_count": null,
   "metadata": {},
   "outputs": [],
   "source": [
    "print(y) # attribute/label"
   ]
  },
  {
   "cell_type": "markdown",
   "metadata": {},
   "source": [
    "### Step 2) choose classifier algorithm and train it on your training data with `.fit`\n",
    "`neigh = KNeighborsClassifier(n_neighbors=3, weights='distance')`\n",
    "\n",
    "`neigh.fit(X,y)`\n",
    "### Step 3) predict the attribute of unlabeled test data\n",
    "`Z = neigh.predict()`\n"
   ]
  },
  {
   "cell_type": "code",
   "execution_count": null,
   "metadata": {},
   "outputs": [],
   "source": [
    "from sklearn.neighbors import KNeighborsClassifier\n",
    "\n",
    "# setup the classifier algorithm and fit to observations\n",
    "neigh = KNeighborsClassifier(n_neighbors=3, weights='distance')\n",
    "neigh.fit(X,y)\n",
    "\n",
    "# predict classification of points on a grid (test data points)\n",
    "xx, yy = np.meshgrid(np.arange(-1.5, 2.6, 0.01),np.arange(-1, 1.6, 0.01))\n",
    "Z = neigh.predict(np.c_[xx.ravel(), yy.ravel()])\n",
    "\n",
    "# plot observations\n",
    "plt.scatter(X[:, 0], X[:, 1], c=y, cmap=cm_bright,edgecolors='k')\n",
    "# plot the predictions\n",
    "Z = Z.reshape(xx.shape)\n",
    "plt.contourf(xx, yy, Z, cmap=cm, alpha=.6)\n",
    "plt.show()"
   ]
  },
  {
   "cell_type": "markdown",
   "metadata": {},
   "source": [
    "## Landsat Satellite Data\n",
    "\n",
    "The landsat series of satellites provide satellite imagery for the entire Earth's surface. They are frequently used to study land management. Landsat data vary depending on which satellite is being used. Today we will be using data from Landsat Series 7. Landsat satellites record the brightness of reflected light in multiple different wavelength 'bands'. This means that the satellite gets a separate value for different colors of light.\n",
    "\n",
    "| Band       | Wavelength (micrometers)| Color          | Resolution (m) |\n",
    "| -----------|-------------------------| ---------------|----------------|\n",
    "| 1          | 0.45-0.52               | Blue           | 30             |\n",
    "| 2          | 0.52-0.60               | Green          | 30             |\n",
    "| 3          | 0.63-0.69               | Red            | 30             |\n",
    "| 4          | 0.77-0.90               | Near Infrared  | 30             |\n",
    "| 5          | 1.55-1.75               | Infrared 1     | 30             |\n",
    "| 6          | 10.40-12.50             | Thermal        | 60             |\n",
    "| 7          | 2.09-2.35               | Infrared 2     | 30             |\n",
    "| 8          | 0.52-0.90               | Panchromatic   | 15             |\n",
    "\n",
    "\n",
    "\n",
    "Today we're going to look at putting labels on the landsat data for the area around the town of Bellingham, Washington. The data come from the USGS Global Land Survey dataset for this region from Sep 25th 2009 https://earthexplorer.usgs.gov/. \n",
    "\n",
    "In the datasets folder, we have a set of TIF images for each of the bands in the landsat dataset. Each image contains the level of  brightness in the given color band for each picture. To get an understanding, let's read in one of our TIF files, and plot the data using `plt.imread()` and `plt.imshow()`."
   ]
  },
  {
   "cell_type": "code",
   "execution_count": null,
   "metadata": {
    "ExecuteTime": {
     "end_time": "2020-03-23T07:57:47.123862Z",
     "start_time": "2020-03-23T07:57:44.924402Z"
    }
   },
   "outputs": [],
   "source": [
    "B4=plt.imread('Landsat_Data/B4.TIF') #Read in the TIF file #filter the TIF file data for the region of interest\n",
    "plt.figure(figsize=(16,12)) #make  a big figure object\n",
    "plt.imshow(B4) #Plot the data for band 4\n",
    "plt.axis('Off') #Turn off the plotting axes with tick marks, etc.\n",
    "plt.show()"
   ]
  },
  {
   "cell_type": "markdown",
   "metadata": {},
   "source": [
    "This gives us the brightness seen just in the 'Near Infrared' band. We can definitely see the land here and ocean here, but it's hard to tell what's going on in the landscape and we don't just want our satellite imagery in just one band. \n",
    "\n",
    "For simplicity's sake, let's ignore bands 6 and 8 which have different resolutions and just read in the images for the other 5 color bands."
   ]
  },
  {
   "cell_type": "code",
   "execution_count": null,
   "metadata": {
    "ExecuteTime": {
     "end_time": "2020-03-23T03:29:13.129728Z",
     "start_time": "2020-03-23T03:29:05.738402Z"
    }
   },
   "outputs": [],
   "source": [
    "B1=plt.imread('Landsat_Data/B1.TIF')\n",
    "B2=plt.imread('Landsat_Data/B2.TIF')\n",
    "B3=plt.imread('Landsat_Data/B3.TIF')\n",
    "B5=plt.imread('Landsat_Data/B5.TIF')\n",
    "B7=plt.imread('Landsat_Data/B7.TIF')"
   ]
  },
  {
   "cell_type": "markdown",
   "metadata": {
    "ExecuteTime": {
     "end_time": "2020-03-21T02:25:59.565684Z",
     "start_time": "2020-03-21T02:25:59.542746Z"
    }
   },
   "source": [
    "Let's combine some of these bands into a False color image. We can use different combinations of the bands by making a 1000x1000x3 array and passing it to `plt.imshow()`. Each of the 1000x1000 elements in the array represents a pixel, within that we have 3 values for the amount of Red, Green or Blue. \n",
    "\n",
    "For a true color image, we're going to use band 3 \"Red\", band 2 \"Green\" and band 1 \"Blue\".\n",
    "\n",
    "Note that we will at times be using the `.T` array method which is essentially identical to the `.transpose()` array method in the following.  "
   ]
  },
  {
   "cell_type": "code",
   "execution_count": null,
   "metadata": {},
   "outputs": [],
   "source": [
    "RGB=np.array([B3.T,B2.T,B1.T]).T #Make an RGB image from bands 5, 4 and 3\n",
    "plt.figure(figsize=(16,12)) #Plot a big figure\n",
    "plt.imshow(RGB)#Plot the RGB array\n",
    "plt.grid()\n",
    "plt.show()"
   ]
  },
  {
   "cell_type": "markdown",
   "metadata": {},
   "source": [
    "For a false color image, we're going to use band 5 (infrared) for \"Red\", band 4 (near infrared) for \"Green\" and band 3 (red) for \"Blue\". We will use these bands as it looks a bit nicer than the true color image."
   ]
  },
  {
   "cell_type": "code",
   "execution_count": null,
   "metadata": {
    "ExecuteTime": {
     "end_time": "2020-03-23T07:25:31.142630Z",
     "start_time": "2020-03-23T07:25:30.389235Z"
    }
   },
   "outputs": [],
   "source": [
    "RGB=np.array([B5.T,B4.T,B3.T]).T #Make an RGB image from bands 5, 4 and 3\n",
    "plt.figure(figsize=(16,12)) #Plot a big figure\n",
    "plt.imshow(RGB)#Plot the RGB array\n",
    "plt.grid()\n",
    "plt.show()"
   ]
  },
  {
   "cell_type": "markdown",
   "metadata": {},
   "source": [
    "OK! Now we're getting somewhere. We can clearly see the main city close to the center of the image, farmland to the North and forested areas to the South. What if we wanted to know what percentage of the area in this image is forested? `scikit-learn` can help!"
   ]
  },
  {
   "cell_type": "markdown",
   "metadata": {},
   "source": [
    "## Classification\n",
    "This kind of problem is known as _classification_, a type of supervised learning. To classify data, you gather a _training_ dataset where you already label part of your data, then you _train_ your algorithm on this dataset and have it assign labels to the rest of your data. You've all probably done some of this, whenever you log in to a website and they make you identify a car in the image, you are helping to train a program to see cars. Let's see how we might practically do this with our Landsat data."
   ]
  },
  {
   "cell_type": "markdown",
   "metadata": {},
   "source": [
    "### Making our training dataset using patches\n",
    "\n",
    "An easy way of making our 'training' dataset would be to put a square on the map that contains only one type of terrain (Farmland, Water, City/Buildings and Forest). Let's display these on the graph using a handy feature of `matplotlib` called `patches` which can be used to draw shapes on a plot. To draw our squares, we're going to import the object `Rectangle()` from `matplotlib.patches`. `Rectangle` takes arguments for the upper left corner, width and height of the rectangle, and the face and edgecolors. We're going to make all our squares 70x70 (4900 training pixels) and label them with `plt.text()`. Let's add our patches and text to our RGB plot above.  To determine the lower left corner, we use the coordinates from the above plot, so 'City' could be x=535,y=550; 'Farms' could be x=165,y=330; 'Water' could be x=315,665; and 'Forest' could be x=780,y=455.  "
   ]
  },
  {
   "cell_type": "code",
   "execution_count": null,
   "metadata": {
    "ExecuteTime": {
     "end_time": "2020-03-23T08:05:27.145494Z",
     "start_time": "2020-03-23T08:05:26.295808Z"
    }
   },
   "outputs": [],
   "source": [
    "from matplotlib.patches import Rectangle \n",
    "\n",
    "fig,ax=plt.subplots(figsize=(16,12)) #Make a figure and axis object to plot patches onto\n",
    "\n",
    "plt.imshow(RGB) #Add the base RGB image\n",
    "\n",
    "#Add the patches\n",
    "\n",
    "#Add a 70x70 square with top left corner 535,550. Set the square to have no fill (so we can see through it)\n",
    "#Set the edge of the square to be white\n",
    "ax.add_patch(Rectangle([535,550],70,70,facecolor='None',edgecolor='w')) \n",
    "\n",
    "#Plot text in the middle of the square\n",
    "plt.text(570,585,'City',color='w',horizontalalignment='center',verticalalignment='center')\n",
    "\n",
    "#Add our other squares\n",
    "ax.add_patch(Rectangle([165,330],70,70,facecolor='None',edgecolor='w'))\n",
    "plt.text(200,365,'Farms',color='w',horizontalalignment='center',verticalalignment='center')\n",
    "ax.add_patch(Rectangle([315,665],70,70,facecolor='None',edgecolor='w'))\n",
    "plt.text(350,700,'Water',color='w',horizontalalignment='center',verticalalignment='center')\n",
    "ax.add_patch(Rectangle([780,455],70,70,facecolor='None',edgecolor='w'))\n",
    "plt.text(815,490,'Forest',color='w',horizontalalignment='center',verticalalignment='center')\n",
    "\n",
    "#Remove the axis\n",
    "plt.axis('Off')\n",
    "plt.show()"
   ]
  },
  {
   "cell_type": "markdown",
   "metadata": {},
   "source": [
    "### Converting our training data into the right format\n",
    "Let's grab the data from inside these squares and turn it into a format that `scikit-learn` can understand. It needs to an $m$ x $n$ numpy array where $m$ is the number of dimensions (here bands) and $n$ is the number of data points (here number of pixels 70x70).\n",
    "\n",
    "<font color=goldenrod>**_Code for you to finish_**</font>\n",
    "\n",
    "Replace the `...`s below to with the 70x70 rectangles we drew above."
   ]
  },
  {
   "cell_type": "code",
   "execution_count": null,
   "metadata": {
    "ExecuteTime": {
     "end_time": "2020-03-23T08:07:45.578642Z",
     "start_time": "2020-03-23T08:07:45.531995Z"
    }
   },
   "outputs": [],
   "source": [
    "#Create empty lists for each of our types of terrain\n",
    "farms=[]\n",
    "water=[]\n",
    "city=[]\n",
    "forest=[]\n",
    "\n",
    "#populate the empty lists, replace the ...s\n",
    "for band in [B1,B2,B3,B4,B5,B7]:\n",
    "    farms.append(band[...].flatten())\n",
    "    water.append(band[...].flatten())\n",
    "    city.append(band[...].flatten())\n",
    "    forest.append(band[...].flatten())\n",
    "    \n",
    "#Turn our lists into arrays and transpose them to make them readable by scikit-learn\n",
    "farms=np.array(farms).T\n",
    "water=np.array(water).T\n",
    "city=np.array(city).T\n",
    "forest=np.array(forest).T\n",
    "\n",
    "\n",
    "#For the training dataset, make an empty array with the right shape to append each of our terrain arrays to\n",
    "training_data=np.empty((0,6))\n",
    "\n",
    "#Append the terrain arrays to the empty array. Note that the axis=0 makes sure the array is 2d.\n",
    "for item in [farms,city,water,forest]:\n",
    "    training_data=np.append(training_data,item,axis=0)"
   ]
  },
  {
   "cell_type": "markdown",
   "metadata": {
    "ExecuteTime": {
     "end_time": "2020-03-22T20:18:30.286880Z",
     "start_time": "2020-03-22T20:18:30.268504Z"
    }
   },
   "source": [
    "We also need to make an array of labels that is the same length as the array of training data. These tell `scikit-learn` what type of terrain each data point is associated with.  For this we can use the function `np.full()` which returns a new array of a given shape and type filled with a fill value. \n",
    "\n",
    "<font color=goldenrod>**_Code for you to finish_**</font>\n",
    "\n",
    "Use `np.full()` to make arrays the same length as the arrays `farms`, `water`, `city`, and `forest` filled with those strings."
   ]
  },
  {
   "cell_type": "code",
   "execution_count": null,
   "metadata": {
    "ExecuteTime": {
     "end_time": "2020-03-23T08:12:06.605051Z",
     "start_time": "2020-03-23T08:12:06.579473Z"
    }
   },
   "outputs": [],
   "source": [
    "#Make an array of labels for each of the terrain datasets\n",
    "farms_labels= np.full(len(farms),'farms')\n",
    "city_labels=\n",
    "water_labels=\n",
    "forest_labels=\n",
    "\n",
    "\n",
    "training_labels=np.array([])\n",
    "for item in [farms_labels,city_labels,water_labels,forest_labels]:\n",
    "    training_labels=np.append(training_labels,item)"
   ]
  },
  {
   "cell_type": "markdown",
   "metadata": {},
   "source": [
    "### Classifying the satellite image\n",
    "Although there are lots of classificiation methods in the scifit-learn package, one of the most simple is `KNeighborsClassifier`. This works by finding the pixels in the training dataset that are closest to the pixel being analyzed - aka the 'nearest neighbors'."
   ]
  },
  {
   "cell_type": "code",
   "execution_count": null,
   "metadata": {
    "ExecuteTime": {
     "end_time": "2020-03-23T08:13:12.355932Z",
     "start_time": "2020-03-23T08:13:12.279306Z"
    }
   },
   "outputs": [],
   "source": [
    "from sklearn.neighbors import KNeighborsClassifier\n",
    "#Make a nearest neighbors classifier object\n",
    "nneighbors=KNeighborsClassifier()\n",
    "#Fit the classifier using the training dataset\n",
    "fit=nneighbors.fit(training_data,training_labels)"
   ]
  },
  {
   "cell_type": "markdown",
   "metadata": {},
   "source": [
    "Now let's grab the whole dataset and turn it into an array where each column is all the pixels from each color band. We can then predict the labels for this. Note that this may take some time to do the prediction for a million pixels!"
   ]
  },
  {
   "cell_type": "code",
   "execution_count": null,
   "metadata": {
    "ExecuteTime": {
     "end_time": "2020-03-23T08:14:11.312291Z",
     "start_time": "2020-03-23T08:13:14.116857Z"
    }
   },
   "outputs": [],
   "source": [
    "#Make image data readable by scikit-learn\n",
    "full_image_data=np.array([B1.flatten(),B2.flatten(),B3.flatten(),\\\n",
    "                 B4.flatten(),B5.flatten(),B7.flatten()]).T\n",
    "\n",
    "#Work out labels for the whole image\n",
    "prediction=fit.predict(full_image_data)"
   ]
  },
  {
   "cell_type": "code",
   "execution_count": null,
   "metadata": {},
   "outputs": [],
   "source": [
    "image_data_prediction = pd.DataFrame(data = full_image_data, columns=['Band1', 'Band2','Band3','Band4','Band5','Band7'])\n",
    "image_data_prediction['label_prediction'] = prediction\n",
    "image_data_prediction['label_color'] = np.zeros(len(image_data_prediction['label_prediction']))\n",
    "image_data_prediction['label_color'][image_data_prediction['label_prediction']== 'farms'] = 'lightgreen'\n",
    "image_data_prediction['label_color'][image_data_prediction['label_prediction']== 'city'] = 'grey'\n",
    "image_data_prediction['label_color'][image_data_prediction['label_prediction']== 'water'] = 'blue'\n",
    "image_data_prediction['label_color'][image_data_prediction['label_prediction']== 'forest'] = 'darkgreen'\n",
    "image_data_prediction.head()"
   ]
  },
  {
   "cell_type": "markdown",
   "metadata": {
    "ExecuteTime": {
     "end_time": "2020-03-23T06:22:48.755844Z",
     "start_time": "2020-03-23T06:21:52.656214Z"
    }
   },
   "source": [
    "Now we have to convert our list of labels back into a set of colors that `plt.imshow()` can read. Let's use dark green for the forests, grey for the city/buildings, blue for the water and light green for the farmland. Instead of the words for colors, we can use the RGB color trick whereby each color can range from 0 to 255.  So... 'red' would be \\[255,0,0\\], 'green'  \\[0,255,0\\], and blue \\[0,0,255\\].  White is \\[255,255,255\\], black is \\[0,0,0\\] and grey is half-way in between: \\[125,125,125\\].  "
   ]
  },
  {
   "cell_type": "code",
   "execution_count": null,
   "metadata": {
    "ExecuteTime": {
     "end_time": "2020-03-23T07:51:18.193811Z",
     "start_time": "2020-03-23T07:51:12.394301Z"
    }
   },
   "outputs": [],
   "source": [
    "prediction_RGB=[]\n",
    "for i in prediction:\n",
    "    if i=='farms':\n",
    "        prediction_RGB.append([0,255,0]) # make farms green\n",
    "    if i=='city':\n",
    "        prediction_RGB.append([125,125,125]) # make cities grey\n",
    "    if i=='water':\n",
    "        prediction_RGB.append([0,0,255]) # make water blue\n",
    "    if i=='forest':\n",
    "        prediction_RGB.append([0,125,0]) # make forest dark green\n",
    "prediction_RGB=np.array(prediction_RGB)"
   ]
  },
  {
   "cell_type": "markdown",
   "metadata": {},
   "source": [
    "Finally, let's plot the final result and see how it did."
   ]
  },
  {
   "cell_type": "code",
   "execution_count": null,
   "metadata": {
    "ExecuteTime": {
     "end_time": "2020-03-23T07:49:45.663624Z",
     "start_time": "2020-03-23T07:49:45.090393Z"
    }
   },
   "outputs": [],
   "source": [
    "prediction_RGB_grid=prediction_RGB.reshape(RGB.shape)\n",
    "plt.figure(figsize=(16,12))\n",
    "plt.imshow(prediction_RGB_grid)\n",
    "plt.axis('Off')\n",
    "plt.show()"
   ]
  },
  {
   "cell_type": "markdown",
   "metadata": {},
   "source": [
    "This looks like it identified everything very well. We have:\n",
    "- Farmland in the North\n",
    "- Forest in the South and West\n",
    "- Built up areas where we would expect them to be\n",
    "- Water in the right places\n",
    "\n",
    "There are a couple of differences:\n",
    "- Rivers are labelled as 'city'\n",
    "- The delta at the mouth of the river is labelled as 'farms'\n",
    "\n",
    "This is probably because river systems are shallower and have lots of sediment at the surface, making them  different from deep lakes, seas and oceans. Maybe we should have added an extra category for 'river', but we couldn't have done this with a square."
   ]
  },
  {
   "cell_type": "markdown",
   "metadata": {},
   "source": [
    "### What percentage of the image is forested?\n",
    "We can now easily find the percentage of the area that is forested using array masking. Using our array `prediction` we can search for all of the pixels that are labelled as being forest.\n",
    "\n",
    "<font color=goldenrod>**_Code for you to finish_**</font>\n",
    "\n",
    "Compute the number of forest pixels, the total number of pixels, and the percentage of forest pixels."
   ]
  },
  {
   "cell_type": "code",
   "execution_count": null,
   "metadata": {
    "ExecuteTime": {
     "end_time": "2020-03-23T08:16:48.179021Z",
     "start_time": "2020-03-23T08:16:48.091760Z"
    }
   },
   "outputs": [],
   "source": [
    "n_forested_pixels= #Find the number of forested pixels\n",
    "n_pixels= #Find the total number of pixels\n",
    "percent_forested=\n",
    "print('The percentage of this area that is forested is %2.1f'%percent_forested+'%')"
   ]
  },
  {
   "cell_type": "markdown",
   "metadata": {},
   "source": [
    "### Visualizing data using Principal Component Analysis\n",
    "As with a lot of machine learning approaches, it is a little 'black-boxy' in that is  difficult to understand exactly what our classifier is doing. Part of this is because there are a lot of datapoints, with 6 features each and our brains have difficulty 'seeing' in more than three dimensions. \n",
    "\n",
    "<font color=goldenrod>**_Code for you to write_**</font>\n",
    "\n",
    "Make a few (at least 2) scatter plots of two different bands on the x and y axes and colorcode the markers by their predicted labels."
   ]
  },
  {
   "cell_type": "code",
   "execution_count": null,
   "metadata": {},
   "outputs": [],
   "source": []
  },
  {
   "cell_type": "code",
   "execution_count": null,
   "metadata": {},
   "outputs": [],
   "source": []
  },
  {
   "cell_type": "code",
   "execution_count": null,
   "metadata": {},
   "outputs": [],
   "source": []
  },
  {
   "cell_type": "markdown",
   "metadata": {},
   "source": [
    "One option is called  [_Principal Component Analysis_](https://setosa.io/ev/principal-component-analysis/). This is a type of analysis that finds a 2-D projection  of the data that shows the shape of the scatter the most effectively. It does this by grouping dimensions together into _principal components_.  The dimensions `scikit-learn` actually picks to clump together are generally very abstract and hard to relate to any 'real' measurement, but they show the scatter of the data quite nicely. In effect, instead of having to look at lots of different plots, `PCA`  allows us to look at just a single two dimensional plot to see the data. `PCA` is implemented into `scikit-learn` through the `decomposition` module. Let's fit principal components to our training data and see where everything plots."
   ]
  },
  {
   "cell_type": "code",
   "execution_count": null,
   "metadata": {
    "ExecuteTime": {
     "end_time": "2020-03-23T08:16:49.668856Z",
     "start_time": "2020-03-23T08:16:49.512727Z"
    }
   },
   "outputs": [],
   "source": [
    "from sklearn.decomposition import PCA\n",
    "\n",
    "pca=PCA(n_components=3) #We're going to use a PCA with 2 components because we want a 2d plot.\n",
    "pca_fit=pca.fit(training_data) #Fit the PCA to the training dataset\n",
    "\n",
    "#Transform the datasets for different types of terrain to make them 'In PCA space'\n",
    "farms_pca=pca_fit.transform(farms)\n",
    "city_pca=pca_fit.transform(city)\n",
    "water_pca=pca_fit.transform(water)\n",
    "forest_pca=pca_fit.transform(forest)"
   ]
  },
  {
   "cell_type": "markdown",
   "metadata": {},
   "source": [
    "Now let's make a scatterplot of the different things we can see in our satellite image. As it was fairly easy to classify them, we might expect them to form separate blobs on the scatter plot."
   ]
  },
  {
   "cell_type": "code",
   "execution_count": null,
   "metadata": {
    "ExecuteTime": {
     "end_time": "2020-03-23T07:31:43.900038Z",
     "start_time": "2020-03-23T07:31:43.435688Z"
    }
   },
   "outputs": [],
   "source": [
    "#Scatter our different types of land/water on the plot. \n",
    "#We use a low alpha (opacity) to show the density better with lots of points\n",
    "plt.scatter(farms_pca[:,0],farms_pca[:,1],color='lightgreen',alpha=0.01,label='Farms')\n",
    "plt.scatter(city_pca[:,0],city_pca[:,1],color='grey',alpha=0.01,label='City')\n",
    "plt.scatter(water_pca[:,0],water_pca[:,1],color='blue',alpha=0.01,label='Water')\n",
    "plt.scatter(forest_pca[:,0],forest_pca[:,1],color='darkgreen',alpha=0.01,label='Forest')\n",
    "\n",
    "#Plot the means of the blobs as red xs\n",
    "for item in [farms_pca,city_pca,water_pca,forest_pca]:\n",
    "    plt.plot(np.mean(item[:,0]),np.mean(item[:,1]),'rx')\n",
    "    \n",
    "#Plot x and y labels and legend\n",
    "plt.xlabel('Component 1 (Arbitrary Units)')\n",
    "plt.ylabel('Component 2 (Arbitrary Units)')\n",
    "plt.title('PCA Plot of Training Data');"
   ]
  },
  {
   "cell_type": "markdown",
   "metadata": {},
   "source": [
    "From this, we can see that the forest, farmland, and city data have some significant overlap in our training dataset, but the water is very distinct. Classification is basically just trying to draw the boundaries between these blobs. Let's include a third dimension to see if cities and farms are more distinct. We can do this by adding `projection='3d'` to our subplot object."
   ]
  },
  {
   "cell_type": "code",
   "execution_count": null,
   "metadata": {},
   "outputs": [],
   "source": [
    "fig=plt.figure(1,(10,10)) # make a figure object\n",
    "ax = fig.add_subplot(111, projection='3d') # add a subplot with 3d projection to the fig\n",
    "\n",
    "# add scatter points color coded by label\n",
    "plt.scatter(farms_pca[:,0],farms_pca[:,1],farms_pca[:,2],color='lightgreen',alpha=0.2,label='Farms')\n",
    "plt.scatter(city_pca[:,0],city_pca[:,1],city_pca[:,2],color='grey',alpha=0.2,label='City')\n",
    "plt.scatter(water_pca[:,0],water_pca[:,1],water_pca[:,2],color='blue',alpha=0.2,label='Water')\n",
    "plt.scatter(forest_pca[:,0],forest_pca[:,1],forest_pca[:,2],color='darkgreen',alpha=0.2,label='Forest')\n",
    "\n",
    "# x and y labels and legend\n",
    "ax.set_xlabel('Component 1 (Arbitrary Units)')\n",
    "ax.set_ylabel('Component 2 (Arbitrary Units)')\n",
    "ax.set_zlabel('Component 3 (Arbitrary Units)')\n",
    "plt.title('PCA Plot of Training Data');"
   ]
  },
  {
   "cell_type": "markdown",
   "metadata": {},
   "source": [
    "### A final word of warning\n",
    "\n",
    "**scikit-learn** has a lot of different algorithms for regression, classification and clustering and it is important to choose the right one to get good results. The [**scikit-learn** website](https://scikit-learn.org) has lots of helpful documentation on how to do this. Importantly, all good machine learning models should be _validated_. This is a kind of check to tell you that the model is producing good results, or if one model is better than another. We did this graphically by looking at our satellite image, but **scikit-learn** provides packages that allow you to do this mathematically. If you don't have any way of evaluating how your model is doing, you don't know if any of the trends you are seeing are 'real' or not.\n",
    "\n",
    "## A final word on EPS88\n",
    "\n",
    "I hope you enjoyed the course and learned some things. My main goal for the class is to help make you a \"dangerous\" data citizen. Data in general should be [FAIR](https://www.go-fair.org/fair-principles/) (Findability, Accessibility, Interoperability, and Reusable), but especially publically funded data should be publically available. The best way for that to happen is if citizens demand it and utilize the data. I hope you fee like you have the skills to find data that is important to you -- your family and community -- and to analyze/interpret that data."
   ]
  },
  {
   "cell_type": "code",
   "execution_count": null,
   "metadata": {},
   "outputs": [],
   "source": []
  }
 ],
 "metadata": {
  "kernelspec": {
   "display_name": "Python 3",
   "language": "python",
   "name": "python3"
  },
  "language_info": {
   "codemirror_mode": {
    "name": "ipython",
    "version": 3
   },
   "file_extension": ".py",
   "mimetype": "text/x-python",
   "name": "python",
   "nbconvert_exporter": "python",
   "pygments_lexer": "ipython3",
   "version": "3.7.7"
  }
 },
 "nbformat": 4,
 "nbformat_minor": 4
}
