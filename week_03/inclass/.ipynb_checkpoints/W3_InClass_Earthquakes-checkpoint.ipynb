{
 "cells": [
  {
   "cell_type": "markdown",
   "metadata": {},
   "source": [
    "# Earthquakes and Tectonic Plate Boundaries\n",
    "\n",
    "**Our goals for today:**\n",
    "- Review topography and seafloor age.\n",
    "- Load and visualize an earthquake catalog.\n",
    "- Plot histograms of earthquake magnitude and depth.\n",
    "- Think about these data in terms of plate tectonics."
   ]
  },
  {
   "cell_type": "markdown",
   "metadata": {},
   "source": [
    "### Setup\n",
    "\n",
    "Run this cell as it is to setup your environment and login to okpy."
   ]
  },
  {
   "cell_type": "code",
   "execution_count": null,
   "metadata": {},
   "outputs": [],
   "source": [
    "import numpy as np\n",
    "import pandas as pd\n",
    "\n",
    "import matplotlib.pyplot as plt\n",
    "from matplotlib import cm\n",
    "\n",
    "from cartopy import config\n",
    "import cartopy.crs as ccrs\n",
    "\n",
    "from client.api.notebook import Notebook\n",
    "ok = Notebook('ic03.ok')\n",
    "_ = ok.auth(inline=True,force=True)"
   ]
  },
  {
   "cell_type": "markdown",
   "metadata": {},
   "source": [
    "## Review topography looking at North Atlantic\n",
    "\n",
    "Let us use the `Robinson` projection to look at the large underwater mountain range of the Mid-Atlantic ridge."
   ]
  },
  {
   "cell_type": "code",
   "execution_count": null,
   "metadata": {},
   "outputs": [],
   "source": [
    "lats = np.loadtxt('../../week_02_IO_elevation/inclass/data/etopo20lats.txt') \n",
    "lons = np.loadtxt('../../week_02_IO_elevation/inclass/data/etopo20lons.txt')\n",
    "topo_grid = np.loadtxt('../../week_02_IO_elevation/inclass/data/etopo20data.txt')\n",
    "\n",
    "# repeat the array of latitudes 1081 times\n",
    "latitude =  np.repeat(lats,1081) \n",
    "\n",
    "# reshape that (583740,1) element array to (540,1081)\n",
    "lat_grid = latitude.reshape(540,1081) \n",
    "\n",
    "# repeat the array of longtitudes 540 times as rows\n",
    "lon_grid = np.tile(lons,(540,1)) "
   ]
  },
  {
   "cell_type": "code",
   "execution_count": null,
   "metadata": {},
   "outputs": [],
   "source": [
    "plt.figure(1,(10,10))\n",
    "ax = plt.axes(projection=ccrs.Robinson(central_longitude=-40.0))\n",
    "ax.set_global()\n",
    "plt.contourf(lon_grid, lat_grid, topo_grid,100,vmax=0,vmin=-6000,\n",
    "             cmap=cm.viridis,transform=ccrs.PlateCarree())\n",
    "\n",
    "ax.coastlines()\n",
    "ax.gridlines()\n",
    "\n",
    "color_ax = plt.axes([0.95, 0.3, 0.05, 0.35])\n",
    "plt.colorbar(cax=color_ax) \n",
    "plt.title('elevation/depth (m)'); \n",
    "\n",
    "plt.show()"
   ]
  },
  {
   "cell_type": "markdown",
   "metadata": {},
   "source": [
    "## Review seafloor age looking at North Atlantic"
   ]
  },
  {
   "cell_type": "code",
   "execution_count": null,
   "metadata": {},
   "outputs": [],
   "source": [
    "seafloor_age_data = pd.read_csv('../../week_02_IO_elevation/assignment/data/age.csv')\n",
    "\n",
    "age_longitude = np.asarray(seafloor_age_data['longitude'])\n",
    "age_latitude = np.asarray(seafloor_age_data['latitude'])\n",
    "age = np.asarray(seafloor_age_data['age_Ma'])\n",
    "\n",
    "age_grid = age.reshape((901,1801))\n",
    "age_long_grid = age_longitude.reshape((901,1801))\n",
    "age_lat_grid = age_latitude.reshape((901,1801))"
   ]
  },
  {
   "cell_type": "code",
   "execution_count": null,
   "metadata": {},
   "outputs": [],
   "source": [
    "plt.figure(1,(10,10))\n",
    "ax = plt.axes(projection=ccrs.Robinson(central_longitude=-40.0))\n",
    "ax.set_global()\n",
    "plt.contourf(age_long_grid, age_lat_grid, age_grid,30,\n",
    "             cmap=cm.magma_r,vmax=200,transform=ccrs.PlateCarree())\n",
    "\n",
    "ax.coastlines()\n",
    "ax.gridlines()\n",
    "\n",
    "color_ax = plt.axes([0.95, 0.3, 0.05, 0.35])\n",
    "plt.colorbar(cax=color_ax) \n",
    "plt.title('Age, Myr'); \n",
    "\n",
    "plt.show()"
   ]
  },
  {
   "cell_type": "markdown",
   "metadata": {},
   "source": [
    "What patterns do you observe? Where is the youngest seafloor in relation to the seafloor ridges we observed in our map of topography? Where is the oldest seafloor? "
   ]
  },
  {
   "cell_type": "markdown",
   "metadata": {},
   "source": [
    "## Load the Earthquake Catalog"
   ]
  },
  {
   "cell_type": "markdown",
   "metadata": {},
   "source": [
    "Go to https://earthquake.usgs.gov/earthquakes/search/\n",
    "\n",
    "Download a .csv data file of all the earthquakes of magnitude 5.0 and higher from the past 10 years. To get a .csv, rather than a map, click on output options. Alternatively, you could use the USGS API to access the data as we did in the first in-class period by modifying this URL with the right dates:\n",
    "'https://earthquake.usgs.gov/fdsnws/event/1/query.csv?starttime=2020-08-15%2000:00:00&endtime=2020-09-14%2023:59:59&minmagnitude=2.5&orderby=time'"
   ]
  },
  {
   "cell_type": "code",
   "execution_count": null,
   "metadata": {},
   "outputs": [],
   "source": [
    "start_day = '2010-09-15'\n",
    "end_day = '2020-09-11'\n",
    "standard_url = 'https://earthquake.usgs.gov/fdsnws/event/1/query?format=csv&orderby=magnitude'\n",
    "\n",
    "query_url = standard_url + '&starttime=' + start_day + '&endtime=' + end_day + '&minmagnitude=5.0'\n",
    "EQ_data = pd.read_csv(query_url)\n",
    "EQ_data.head()"
   ]
  },
  {
   "cell_type": "markdown",
   "metadata": {},
   "source": [
    "Recall from the homework that Pandas dataframe columns can be accessed using bracket notation with the name of the column as a string:"
   ]
  },
  {
   "cell_type": "code",
   "execution_count": null,
   "metadata": {},
   "outputs": [],
   "source": [
    "EQ_data['mag']"
   ]
  },
  {
   "cell_type": "markdown",
   "metadata": {},
   "source": [
    "## Largest Earthquake in Catalog\n",
    "\n",
    "What is the largest magnitude earthquake in our catalog?\n",
    "\n",
    "<font color=goldenrod>**_Code for you to write_**</font>\n",
    "\n",
    "Use the `np.max()` function on the `EQ_data['mag']` column to answer this question in the code block below."
   ]
  },
  {
   "cell_type": "code",
   "execution_count": null,
   "metadata": {},
   "outputs": [],
   "source": []
  },
  {
   "cell_type": "markdown",
   "metadata": {},
   "source": [
    "Write the magnitude in this cell:\n",
    "\n"
   ]
  },
  {
   "cell_type": "markdown",
   "metadata": {},
   "source": [
    "### Determining when and where the largest Earthquake happened\n",
    "\n",
    "To determine when this earthquake happened we need to find the data associated with this magnitude event. Pandas has really nice filtering functions built in. They take a while to get comfortable with, but can help us answer this question. \n",
    "\n",
    "Define a variable `largest_magnitude` that is the largest magnitude and then execute the cell below to get the date and time."
   ]
  },
  {
   "cell_type": "code",
   "execution_count": null,
   "metadata": {},
   "outputs": [],
   "source": [
    "largest_magnitude = "
   ]
  },
  {
   "cell_type": "code",
   "execution_count": null,
   "metadata": {},
   "outputs": [],
   "source": [
    "largest_eq_date = EQ_data['time'][EQ_data['mag'] == largest_magnitude]\n",
    "print(largest_eq_date)"
   ]
  },
  {
   "cell_type": "markdown",
   "metadata": {},
   "source": [
    "To determine where the earthquake happened we can use similar filtering. Replace the xxx with a conditional statement to get the latitude and longitude:"
   ]
  },
  {
   "cell_type": "code",
   "execution_count": null,
   "metadata": {},
   "outputs": [],
   "source": [
    "largest_eq_lon = EQ_data['longitude'][xxx]\n",
    "largest_eq_lat = EQ_data['latitude'][xxx]"
   ]
  },
  {
   "cell_type": "markdown",
   "metadata": {},
   "source": [
    "Let's plot a red square at the location of the largest earthquake in our catalog. To the `plt.scatter` function, add `s=100` to adjust the size of the marker. Add `color='red'` to change the color. Add `marker=s` to make it a square. \n",
    "\n",
    "Colors can be specified as detailed here: https://matplotlib.org/2.0.2/api/colors_api.html (html color names work: https://www.w3schools.com/colors/colors_names.asp).\n",
    "\n",
    "Marker options are:\n",
    "```\n",
    "markers = {'.': 'point', ',': 'pixel', 'o': 'circle', 'v': 'triangle_down', '^': 'triangle_up', '<': 'triangle_left', '>': 'triangle_right', '1': 'tri_down', '2': 'tri_up', '3': 'tri_left', '4': 'tri_right', '8': 'octagon', 's': 'square', 'p': 'pentagon', '*': 'star', 'h': 'hexagon1', 'H': 'hexagon2', '+': 'plus', 'x': 'x', 'D': 'diamond', 'd': 'thin_diamond', '|': 'vline', '_': 'hline', 'P': 'plus_filled', 'X': 'x_filled', 0: 'tickleft', 1: 'tickright', 2: 'tickup', 3: 'tickdown', 4: 'caretleft', 5: 'caretright', 6: 'caretup', 7: 'caretdown', 8: 'caretleftbase', 9: 'caretrightbase', 10: 'caretupbase', 11: 'caretdownbase', 'None': 'nothing', None: 'nothing', ' ': 'nothing', '': 'nothing'}\n",
    "```"
   ]
  },
  {
   "cell_type": "code",
   "execution_count": null,
   "metadata": {},
   "outputs": [],
   "source": [
    "plt.figure(1,(15,15))\n",
    "ax = plt.axes(projection=ccrs.Robinson())\n",
    "ax.set_global()\n",
    "\n",
    "plt.scatter(largest_eq_lon,largest_eq_lat,transform=ccrs.PlateCarree())\n",
    "\n",
    "plt.title('2011 Tōhoku earthquake')    \n",
    "ax.coastlines()\n",
    "ax.stock_img()\n",
    "ax.gridlines()\n",
    "\n",
    "plt.show()"
   ]
  },
  {
   "cell_type": "markdown",
   "metadata": {},
   "source": [
    "<font color=darkred>**_Discussion question:_**</font> *What were the effects of this earthquake?*\n",
    "\n",
    "https://youtu.be/lyqUhAq3oWo"
   ]
  },
  {
   "cell_type": "markdown",
   "metadata": {},
   "source": [
    "## Plot histogram of Earthquake Magnitude\n",
    "\n",
    "How often do large earthquakes occur? To start addressing this question, let's plot a histogram of earthquake magnitudes.\n",
    "\n",
    "<font color=goldenrod>**_Code for you to write_**</font>\n",
    "\n",
    "You have made a histogram before (such as in class last week) so go and ahead and write the code to make one in the cell below that plots up the `EQ_data['mag']`."
   ]
  },
  {
   "cell_type": "code",
   "execution_count": null,
   "metadata": {},
   "outputs": [],
   "source": []
  },
  {
   "cell_type": "markdown",
   "metadata": {},
   "source": [
    "There are so many small earthquakes that we can't even see a bin for the Tohoku quake. Let's make the histogram on a log-scale. For any function, we can put a question mark after it to get its docstring. Let's do this for `plt.hist`. Once you execute the cell below, you will see that there are a lot of options (which you can also view here: https://matplotlib.org/api/_as_gen/matplotlib.pyplot.hist.html). One of the options is to make the plot be on a log scale by setting `log=True`."
   ]
  },
  {
   "cell_type": "code",
   "execution_count": null,
   "metadata": {},
   "outputs": [],
   "source": [
    "plt.hist?"
   ]
  },
  {
   "cell_type": "markdown",
   "metadata": {},
   "source": [
    "**_Make a histogram of the Earthquake magnitude data on a log-scale_** \n",
    "\n",
    "Set `log=True` within the `plt.hist` function."
   ]
  },
  {
   "cell_type": "code",
   "execution_count": null,
   "metadata": {},
   "outputs": [],
   "source": []
  },
  {
   "cell_type": "markdown",
   "metadata": {},
   "source": [
    "Let's change the features of the plot from the defaults to improve our figure."
   ]
  },
  {
   "cell_type": "code",
   "execution_count": null,
   "metadata": {},
   "outputs": [],
   "source": [
    "plt.figure(1,(6,6))\n",
    "plt.hist(EQ_data['mag'],bins=10,label='Magnitude',log=True)\n",
    "plt.xlabel('Magnitude, Mw', fontsize=...)\n",
    "plt.ylabel('Number of Events', fontsize=...)\n",
    "plt.title('Earthquake Magnitudes $\\geq$5 (2010-2020)', fontsize=...)\n",
    "plt.xticks(fontsize=...)\n",
    "plt.yticks(fontsize=...)\n",
    "plt.xlim([...])\n",
    "plt.grid(True)\n",
    "plt.show()"
   ]
  },
  {
   "cell_type": "markdown",
   "metadata": {},
   "source": [
    "## Plot histogram of Earthquake Depths\n",
    "\n",
    "Let's see the range and frequency of depths where earthquakes occur. **_Make a histogram of earthquake depth_**"
   ]
  },
  {
   "cell_type": "code",
   "execution_count": null,
   "metadata": {},
   "outputs": [],
   "source": []
  },
  {
   "cell_type": "markdown",
   "metadata": {},
   "source": [
    "<font color=darkred>**_Discussion question:_**</font> **_At what depth are the majority of earthquakes? How deep do they extend? How does that compare to the typical depth of the lithosphere (~100 km)?_**\n",
    "\n",
    "_Write your answer here._ "
   ]
  },
  {
   "cell_type": "markdown",
   "metadata": {},
   "source": [
    "## Map of Earthquake Epicenters"
   ]
  },
  {
   "cell_type": "markdown",
   "metadata": {},
   "source": [
    "Now let's plot the epicenters of the earthquakes on a Robinson projection. Replace the xxx's with longitude and latitude in order to make the map."
   ]
  },
  {
   "cell_type": "code",
   "execution_count": null,
   "metadata": {},
   "outputs": [],
   "source": [
    "plt.figure(figsize=(15,15))\n",
    "ax = plt.axes(projection=ccrs.Robinson())\n",
    "ax.set_global()\n",
    "\n",
    "plt.scatter(xxx,xxx,marker='.',color='black',transform=ccrs.PlateCarree())\n",
    "\n",
    "plt.title('Earthquake Epicenters 2010-2020')\n",
    "ax.coastlines()\n",
    "ax.stock_img()\n",
    "ax.gridlines()\n",
    "\n",
    "plt.show()"
   ]
  },
  {
   "cell_type": "markdown",
   "metadata": {},
   "source": [
    "## Small Group Discussion\n",
    "\n",
    "Get into groups of three and discuss these questions while inspecting your maps:\n",
    "\n",
    "**_Where do the majority of earthquakes occur?_**\n",
    "\n",
    "**_What do those locations correspond with?_**\n",
    "\n",
    "**_What properties of these earthquakes should we investigate to learn more about the nature of plate tectonics in different places?_**"
   ]
  },
  {
   "cell_type": "markdown",
   "metadata": {},
   "source": [
    "_Write a summary of your discussion here._"
   ]
  },
  {
   "cell_type": "markdown",
   "metadata": {},
   "source": [
    "## Maps of Earthquake Depth\n",
    "\n",
    "The map we made above is nice, but it doesn't tell us everything about our data such as the depth of the earthquakes. Let's color code the earthquakes by depth when we map them.\n",
    "\n",
    "To do this, use the same `plt.scatter()` function, but add the option to set the color by depth. You can do this by having  `c=EQ_data['depth']` within the function. You can customize the output by setting the minimum value for the color bar `vmin=0` and the maximum value `vmax=200`. You can also customize the colormap. A perceptually uniform sequential color map like `cmap='magma_r'` works well (https://matplotlib.org/tutorials/colors/colormaps.html). I think it also is nice to make the points partially see through by setting `alpha=0.5`. All of these customizations can be made by adding these arguments within the `plt.scatter()` function.\n",
    "\n",
    "**_Make a map that colors points by depth by inserting these arguments in the plt.scatter() function in the code block below._**"
   ]
  },
  {
   "cell_type": "code",
   "execution_count": null,
   "metadata": {},
   "outputs": [],
   "source": [
    "fig = plt.figure(figsize=(15,15))\n",
    "ax = plt.axes(projection=ccrs.Robinson())\n",
    "ax.set_global()\n",
    "\n",
    "plt.scatter(xxx,xxx,INSERT_ARGUMENTS,transform=ccrs.PlateCarree())\n",
    "\n",
    "plt.title('Earthquake Epicenters 2010-2020')\n",
    "ax.coastlines()\n",
    "ax.stock_img()\n",
    "ax.gridlines()\n",
    "plt.colorbar(shrink=0.4,label='depth (km)')\n",
    "plt.show()"
   ]
  },
  {
   "cell_type": "markdown",
   "metadata": {},
   "source": [
    "**_What depth of earthquakes occur at mid-ocean ridges?_**\n",
    "\n",
    "*Write your answer here.*"
   ]
  },
  {
   "cell_type": "markdown",
   "metadata": {},
   "source": [
    "The earthquakes at trenches (like around the Pacific ocean's 'ring of fire') get deeper in a systematic way. The deepest earthquakes are the farthest from the trench. This reveals the location of the downgoing slabs."
   ]
  },
  {
   "cell_type": "markdown",
   "metadata": {},
   "source": [
    "<img src=\"../figures/slab_eq.png\">\n",
    "> A cross-section through a subduction zone. Red points are earthquake focus points. The most active region is the zone of contact between the plates. There is a back-arc seismic zone in the overriding plate. Below ~70 km depth earthquakes occur within the subducting plate, this region is call the Wadati-Benioff seismic zone."
   ]
  },
  {
   "cell_type": "markdown",
   "metadata": {},
   "source": [
    "What direction is subduction occuring below South America? Japan?"
   ]
  },
  {
   "cell_type": "markdown",
   "metadata": {},
   "source": [
    "_Write your answer here._"
   ]
  },
  {
   "cell_type": "markdown",
   "metadata": {},
   "source": [
    "## Andean subduction \n",
    "\n",
    "Let's look at a subset of this earthquake catalog across the Andes in South America. The code below is filtering the data frame to only include those between 20ºS and 25ºS latitude and 75ºW and 60ºW longitude."
   ]
  },
  {
   "cell_type": "code",
   "execution_count": null,
   "metadata": {},
   "outputs": [],
   "source": [
    "selected_quakes = EQ_data[(EQ_data['latitude']>-25)&(EQ_data['latitude']<-20)\n",
    "                          &(EQ_data['longitude']> -75)&(EQ_data['longitude']< -60)]"
   ]
  },
  {
   "cell_type": "code",
   "execution_count": null,
   "metadata": {},
   "outputs": [],
   "source": [
    "plt.figure(1,(10,10)) # make a big figure \n",
    "ax = plt.axes(projection=ccrs.Robinson(central_longitude=-60))\n",
    "ax.set_extent([-80, -40, -50, 5], crs=ccrs.PlateCarree())\n",
    "\n",
    "plt.scatter(selected_quakes['longitude'],selected_quakes['latitude'],marker='.',c=selected_quakes['depth'],transform=ccrs.PlateCarree())\n",
    "\n",
    "plt.title('Earthquake Epicenters 2010-2020')\n",
    "ax.coastlines()\n",
    "ax.stock_img()\n",
    "ax.gridlines(draw_labels=True)\n",
    "\n",
    "plt.show()"
   ]
  },
  {
   "cell_type": "markdown",
   "metadata": {},
   "source": [
    "Let's take all of the earthquakes within that region and plot earthquake depth on the y-axis and earthquake location on the x-axis. **Labeling axes is super important in science! Don't make plots without labeled axes!**"
   ]
  },
  {
   "cell_type": "code",
   "execution_count": null,
   "metadata": {},
   "outputs": [],
   "source": [
    "plt.scatter(selected_quakes['longitude'],-selected_quakes['depth'])\n",
    "plt.title('Andes Earthquake Epicenters 2010-2020')\n",
    "plt.xlabel('Longitude (°)')\n",
    "plt.ylabel('Depth (km)')\n",
    "plt.show()"
   ]
  },
  {
   "cell_type": "markdown",
   "metadata": {},
   "source": [
    "## Pick and plot two other locations of interest\n",
    "\n",
    "Filter the earthquake catalog by a latitude and longitude range like we did above the South America example. Plot the earthquakes on a map and make a similar depth vs. longitude plot (or depth vs latitude plot) for another region."
   ]
  },
  {
   "cell_type": "code",
   "execution_count": null,
   "metadata": {},
   "outputs": [],
   "source": []
  },
  {
   "cell_type": "code",
   "execution_count": null,
   "metadata": {},
   "outputs": [],
   "source": []
  },
  {
   "cell_type": "code",
   "execution_count": null,
   "metadata": {},
   "outputs": [],
   "source": []
  },
  {
   "cell_type": "code",
   "execution_count": null,
   "metadata": {},
   "outputs": [],
   "source": []
  },
  {
   "cell_type": "markdown",
   "metadata": {},
   "source": [
    "**You can take some time to explore different regions. We will then have a couple people come up and write the code to plot earthquake depths in other regions.**"
   ]
  },
  {
   "cell_type": "markdown",
   "metadata": {},
   "source": [
    "### Turn in this notebook\n",
    "\n",
    "Save your completed notebook then run:"
   ]
  },
  {
   "cell_type": "code",
   "execution_count": null,
   "metadata": {},
   "outputs": [],
   "source": [
    "_ = ok.submit()"
   ]
  }
 ],
 "metadata": {
  "kernelspec": {
   "display_name": "Python 3",
   "language": "python",
   "name": "python3"
  },
  "language_info": {
   "codemirror_mode": {
    "name": "ipython",
    "version": 3
   },
   "file_extension": ".py",
   "mimetype": "text/x-python",
   "name": "python",
   "nbconvert_exporter": "python",
   "pygments_lexer": "ipython3",
   "version": "3.7.7"
  }
 },
 "nbformat": 4,
 "nbformat_minor": 4
}
