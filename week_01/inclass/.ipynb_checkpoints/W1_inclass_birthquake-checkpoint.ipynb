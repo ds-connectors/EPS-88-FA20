{
 "cells": [
  {
   "cell_type": "markdown",
   "metadata": {},
   "source": [
    "# Welcome to EPS 88\n",
    "\n",
    "This cell is Markdown text. It is the cell type where we can type text that isn't code. Go ahead and double click in this cell and you will see that you can edit it. **Type something here:**"
   ]
  },
  {
   "cell_type": "markdown",
   "metadata": {},
   "source": [
    "Let's get going right away by dealing with some data within this Jupyter notebook. The first bit of code you will run is in the cell below. This is a code cell rather than a markdown cell (you can chance the cell type using the drop-down box above). You can either hit the play button above, or more efficiently press *shift+enter* on your keyboard to run the code."
   ]
  },
  {
   "cell_type": "code",
   "execution_count": null,
   "metadata": {},
   "outputs": [],
   "source": [
    "#This cell is a code cell. It is where we can type code that can be executed.\n",
    "#The hashtag at the start of this line makes it so that this text is a comment not code. \n",
    "\n",
    "import pandas as pd"
   ]
  },
  {
   "cell_type": "markdown",
   "metadata": {},
   "source": [
    "The reason why we execute the code ```import pandas as pd``` is so that we can use the functions of the ```pandas``` library which provides really helpful data structures and data analysis tools. We are using the standard convention of importing it using the nickname ```pd```. One of the fantastic things about doing data analysis in Python is the availability of great data analysis tools such as ```pandas```. One of the frustrating things can be learning how to use these diverse tools and which to use when. You will get more and more comfortable with these tools as the term progresses."
   ]
  },
  {
   "cell_type": "markdown",
   "metadata": {},
   "source": [
    "# Finding Birthquakes\n",
    "\n",
    "Your birthquake is the largest magnitude earthquake that occured on the day you were born. In this in-class exercise, we are going to search an earthquake catalog and find your birthquake.\n",
    "\n",
    "To do so, we can going to download data from the US Geological Survey (USGS) Earthquake Hazards program. https://earthquake.usgs.gov\n",
    "\n",
    "We are going to use an API that lets us send an url to the USGS and get earthquake information for a set of specified parameters. \n",
    "\n",
    "## Finding Maggie's birthquake\n",
    "\n",
    "Let's do it first for my birthday. We will define my birthday in year-month-day format and the day after my birthday in year-month-day format in order to make a url that gets data starting on 12 am of my birthday and ending 12 am of the next day. We are putting the quote marks (' ') around the dates so that they are **strings** (the python data type that is a sequence of text). "
   ]
  },
  {
   "cell_type": "code",
   "execution_count": null,
   "metadata": {},
   "outputs": [],
   "source": [
    "Maggie_birthday = ''\n",
    "day_after_Maggie_birthday = ''"
   ]
  },
  {
   "cell_type": "markdown",
   "metadata": {},
   "source": [
    "What we just did in the code above is to define the variable ```Maggie_birthday``` to be set to be the string '1987-07-20'. If we run a code cell with just that variable, Jupyter will show the variable as the code output."
   ]
  },
  {
   "cell_type": "code",
   "execution_count": null,
   "metadata": {},
   "outputs": [],
   "source": [
    "Maggie_birthday"
   ]
  },
  {
   "cell_type": "markdown",
   "metadata": {},
   "source": [
    "Another way to see the variable is to tell python to print it using the ```print()``` function."
   ]
  },
  {
   "cell_type": "code",
   "execution_count": null,
   "metadata": {},
   "outputs": [],
   "source": [
    "print(Maggie_birthday)"
   ]
  },
  {
   "cell_type": "markdown",
   "metadata": {},
   "source": [
    "### Defining Maggie's birthday earthquake URL\n",
    "\n",
    "To make a url that we can send to the USGS and get back data, we need to insert these dates into the USGS earthquake API url format. We will define that standard_url as a string and then add the dates that were set above to be the starttime and endtime."
   ]
  },
  {
   "cell_type": "code",
   "execution_count": null,
   "metadata": {},
   "outputs": [],
   "source": [
    "standard_url = 'https://earthquake.usgs.gov/fdsnws/event/1/query?format=csv&orderby=magnitude'\n",
    "\n",
    "Maggie_birthquake_url = standard_url + '&starttime=' + Maggie_birthday + '&endtime=' + day_after_Maggie_birthday\n",
    "Maggie_birthquake_url"
   ]
  },
  {
   "cell_type": "markdown",
   "metadata": {},
   "source": [
    "### Getting Maggie's birthday earthquakes\n",
    "\n",
    "We now have a url that we can use to get data from the USGS. We could cut and paste this url (without the quotation marks) into a web browser. Go ahead and give that a try.\n",
    "\n",
    "Alternatively, we can use the `pandas` functions that we imported at the top of this notebook to get these data. The standard way to use ```pandas``` is to import it with the shorthand ``pd``. We will use the ```pd.read_csv()``` function which will take the data that comes from the USGS url and make it into a DataFrame. A DataFrame is a data structure with columns of different data that are defined with column names."
   ]
  },
  {
   "cell_type": "code",
   "execution_count": null,
   "metadata": {},
   "outputs": [],
   "source": [
    "Maggie_birthday_earthquakes = pd.read_csv(Maggie_birthquake_url)"
   ]
  },
  {
   "cell_type": "markdown",
   "metadata": {},
   "source": [
    "These data are sorted by magnitude with the largest magnitude earthquakes at top. Let's look at the first 5 rows of the DataFrame using the ```.head()``` function."
   ]
  },
  {
   "cell_type": "code",
   "execution_count": null,
   "metadata": {},
   "outputs": [],
   "source": [
    "Maggie_birthday_earthquakes.head()"
   ]
  },
  {
   "cell_type": "markdown",
   "metadata": {},
   "source": [
    "We can just look at the first row by applying the ```.loc``` function to the DataFrame and calling the index 0. Python is zero-indexed so the first row is row zero. We can apply .loc to the first row to see all the details about my birthquake."
   ]
  },
  {
   "cell_type": "code",
   "execution_count": null,
   "metadata": {},
   "outputs": [],
   "source": [
    "Maggie_birthday_earthquakes.loc[0]"
   ]
  },
  {
   "cell_type": "markdown",
   "metadata": {},
   "source": [
    "It can be useful to return a single value which can be done by calling both the the row and the column using the ```.loc``` function. "
   ]
  },
  {
   "cell_type": "code",
   "execution_count": null,
   "metadata": {},
   "outputs": [],
   "source": [
    "Maggie_birthday_earthquakes.loc[0]['mag']"
   ]
  },
  {
   "cell_type": "markdown",
   "metadata": {},
   "source": [
    "When working with Python for this course, you are going to get errors. I get errors everyday. They can look intimidating, but they often are informative (particularly if you look at the bottom). This code cell below should result in an error. Go ahead and execute it and let's have a look at the result."
   ]
  },
  {
   "cell_type": "code",
   "execution_count": null,
   "metadata": {},
   "outputs": [],
   "source": [
    "Maggie_birthday_earthquakes.loc[0]['birthday_cake']"
   ]
  },
  {
   "cell_type": "markdown",
   "metadata": {},
   "source": [
    "#### Maggie's birthquake\n",
    "\n",
    "The largest earthquake on the day I was born was a magnitude (column `mag`) 5.3 that occured off an island of Papua New Guinea (column `place`)."
   ]
  },
  {
   "cell_type": "markdown",
   "metadata": {},
   "source": [
    "## Finding your birthquake\n",
    "### Enter your birthday\n",
    "\n",
    "Enter your birthday and the date after in year-mm-dd format."
   ]
  },
  {
   "cell_type": "code",
   "execution_count": null,
   "metadata": {},
   "outputs": [],
   "source": [
    "### Enter your birthday here within the quotes in year-mm-dd format\n",
    "\n",
    "your_birthday = ''\n",
    "day_after_your_birthday = ''"
   ]
  },
  {
   "cell_type": "markdown",
   "metadata": {},
   "source": [
    "#### Defining your birthday earthquake URL"
   ]
  },
  {
   "cell_type": "code",
   "execution_count": null,
   "metadata": {},
   "outputs": [],
   "source": [
    "standard_url = 'https://earthquake.usgs.gov/fdsnws/event/1/query?format=csv&orderby=magnitude'\n",
    "\n",
    "your_birthquake_url = standard_url + '&starttime=' + your_birthday + '&endtime=' + day_after_your_birthday\n",
    "your_birthquake_url"
   ]
  },
  {
   "cell_type": "markdown",
   "metadata": {},
   "source": [
    "#### Getting your birthday earthquakes"
   ]
  },
  {
   "cell_type": "code",
   "execution_count": null,
   "metadata": {},
   "outputs": [],
   "source": [
    "your_birthday_earthquakes = pd.read_csv(your_birthquake_url)"
   ]
  },
  {
   "cell_type": "markdown",
   "metadata": {},
   "source": [
    "### Looking at your birthday earthquakes"
   ]
  },
  {
   "cell_type": "code",
   "execution_count": null,
   "metadata": {},
   "outputs": [],
   "source": [
    "your_birthday_earthquakes.head()"
   ]
  },
  {
   "cell_type": "code",
   "execution_count": null,
   "metadata": {},
   "outputs": [],
   "source": [
    "your_birthday_earthquakes.loc[0]"
   ]
  },
  {
   "cell_type": "markdown",
   "metadata": {},
   "source": [
    "What is the magnitude of your birthquake? Where did it occur?\n",
    "\n",
    "**Open up the course bCourses page and complete the birthquake survey with the magnitude, latitude and longitude**\n",
    "\n",
    "https://bcourses.berkeley.edu/courses/1494649/quizzes/2320515"
   ]
  },
  {
   "cell_type": "markdown",
   "metadata": {},
   "source": [
    "# Ok demo"
   ]
  },
  {
   "cell_type": "code",
   "execution_count": null,
   "metadata": {},
   "outputs": [],
   "source": [
    "from client.api.notebook import Notebook\n",
    "ok = Notebook('ic01.ok')\n",
    "#_ = ok.auth(inline=True)"
   ]
  },
  {
   "cell_type": "markdown",
   "metadata": {},
   "source": [
    "The `ok` tests don't usually tell you that your answer is correct. More often, they help catch careless mistakes. It's up to you to ensure that your answer is correct. If you're not sure, ask someone (not for the answer, but for some guidance about your approach)."
   ]
  },
  {
   "cell_type": "markdown",
   "metadata": {},
   "source": [
    "**Question 1.** How many seconds are in a year? Define a variable `sec_per_year` that calculates the number of seconds in a year."
   ]
  },
  {
   "cell_type": "code",
   "execution_count": null,
   "metadata": {},
   "outputs": [],
   "source": [
    "sec_per_year = ...\n",
    "sec_per_year"
   ]
  },
  {
   "cell_type": "code",
   "execution_count": null,
   "metadata": {},
   "outputs": [],
   "source": [
    "_ = ok.grade('q1_1')"
   ]
  },
  {
   "cell_type": "markdown",
   "metadata": {},
   "source": [
    "Once you're finished at the end of class, select \"Save and Checkpoint\" in the File menu and then execute the `submit` cell below. The result will contain a link that you can use to check that your assignment has been submitted successfully. If you submit more than once before the deadline, we will only grade your final submission."
   ]
  },
  {
   "cell_type": "markdown",
   "metadata": {},
   "source": [
    "# Group discussion on plate tectonic data\n",
    "\n",
    "Now we will test using zoom breakout rooms to get into groups.\n",
    "\n",
    "Once in groups, we are going to consider a hypothetical scenario:\n",
    "\n",
    "**Your group is is dropped on an Earth-sized exoplanet in a far-away star system. You have infinite resources and infinite technology and are tasked with acquiring data to determine whether the planet has active plate tectonics or not.**\n",
    "\n",
    "**To be an effective research team, you are going to want to know each other. So go ahead and introduce yourselves to each other. Tell each other what you know about your birthquake.**\n",
    "\n",
    "**Following introductions, brainstorm and discuss what data types do you develop and how do you interpret them to answer the research question?**\n",
    "\n",
    "**Nominate a spokesperson from your group that will report back your ideas for a whole class discussion.**"
   ]
  },
  {
   "cell_type": "markdown",
   "metadata": {},
   "source": [
    "Feel free to take notes in this markdown cell. Double click this line."
   ]
  },
  {
   "cell_type": "code",
   "execution_count": null,
   "metadata": {},
   "outputs": [],
   "source": [
    "_ = ok.submit()"
   ]
  }
 ],
 "metadata": {
  "kernelspec": {
   "display_name": "Python 3",
   "language": "python",
   "name": "python3"
  },
  "language_info": {
   "codemirror_mode": {
    "name": "ipython",
    "version": 3
   },
   "file_extension": ".py",
   "mimetype": "text/x-python",
   "name": "python",
   "nbconvert_exporter": "python",
   "pygments_lexer": "ipython3",
   "version": "3.7.7"
  }
 },
 "nbformat": 4,
 "nbformat_minor": 4
}
