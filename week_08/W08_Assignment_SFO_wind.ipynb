{
 "cells": [
  {
   "cell_type": "markdown",
   "metadata": {},
   "source": [
    "# San Francisco airport wind \n",
    "\n",
    "Your assignment is to visualize and analyze wind data collected at the San Francisco airport (SFO) in 2010.\n",
    "\n",
    "Listen to this episode of the podcast [Bay Curious](https://www.kqed.org/news/11682511/why-san-francisco-gets-so-windy-and-foggy-in-the-summer) about \"Why San Francisco Gets So Windy and Foggy in the Summer\"\n",
    "\n",
    "![](./figures/fogwind_final01-1.jpg)\n",
    "\n",
    "## Use the data to make the following plots and answer the following questions:\n",
    "\n",
    "1. **Were the winds stronger in January or July?** The 'HLY-WIND-VCTSPD' column provides the vector speed\n",
    "    - Make histograms of the wind speeds in each month.\n",
    "    - Bootstrap resample the data within each month. Use the `.sample()` to resample the data many times (at least 10,000) with `replace=True`. In doing so, you should create resampled data sets that are the length of the initial data set, calculate the mean and compile the bootstrap resampled means.\n",
    "\n",
    "\n",
    "2. **Were the winds blowing in different directions in January and July?** The 'HLY-WIND-VCTDIR' column provides the vector azimuth\n",
    "    - Make rose diagrams of the wind directions in each month.\n",
    "    - Bootstrap resample the azimuths. Use the `.sample()` to resample the data many times (at least 10,000) with `replace=True`. In doing so, you should create resampled data sets that are the length of the initial data set, calculate the mean and compile the bootstrap resampled means. Remember that calculating a vector mean is different than calculating an arithmetic mean and you should use the approach we took in class to calculate the mean directions for your bootstrap resampled data sets. \n",
    "    \n",
    "3. **Do the same comparisons for early morning hours (3 to 8 am; HOUR 3 to 8) and late afternoon hours (1 to 6 pm; HOUR 13 to 19) in the summer (Months = July, August, and September).**"
   ]
  },
  {
   "cell_type": "code",
   "execution_count": 1,
   "metadata": {},
   "outputs": [],
   "source": [
    "### Import more libraries as needed\n",
    "import pandas as pd\n",
    "import matplotlib.pyplot as plt\n",
    "import numpy as np"
   ]
  },
  {
   "cell_type": "markdown",
   "metadata": {},
   "source": [
    "The data file is 'data/SFO_2010_wind_data.csv'. "
   ]
  },
  {
   "cell_type": "code",
   "execution_count": 2,
   "metadata": {},
   "outputs": [],
   "source": [
    "#import the data\n",
    "wind_data = pd.read_csv('./data/SFO_2010_wind_data.csv')"
   ]
  },
  {
   "cell_type": "code",
   "execution_count": null,
   "metadata": {},
   "outputs": [],
   "source": []
  },
  {
   "cell_type": "code",
   "execution_count": null,
   "metadata": {},
   "outputs": [],
   "source": []
  },
  {
   "cell_type": "code",
   "execution_count": null,
   "metadata": {},
   "outputs": [],
   "source": []
  },
  {
   "cell_type": "markdown",
   "metadata": {},
   "source": [
    "**Write a summary where you compare and constrast the winter to summer wind data and the morning to afternoon wind data. Describe the processes at play referring to what you heard in the meteorology weather radio piece and infographic.**\n",
    "\n",
    "\n"
   ]
  },
  {
   "cell_type": "markdown",
   "metadata": {},
   "source": []
  },
  {
   "cell_type": "markdown",
   "metadata": {},
   "source": [
    "### Turn in the Notebook\n",
    "\n",
    "**Export as HTML and upload to bCourses.**"
   ]
  },
  {
   "cell_type": "code",
   "execution_count": null,
   "metadata": {},
   "outputs": [],
   "source": []
  }
 ],
 "metadata": {
  "kernelspec": {
   "display_name": "Python 3",
   "language": "python",
   "name": "python3"
  },
  "language_info": {
   "codemirror_mode": {
    "name": "ipython",
    "version": 3
   },
   "file_extension": ".py",
   "mimetype": "text/x-python",
   "name": "python",
   "nbconvert_exporter": "python",
   "pygments_lexer": "ipython3",
   "version": "3.7.7"
  }
 },
 "nbformat": 4,
 "nbformat_minor": 4
}
