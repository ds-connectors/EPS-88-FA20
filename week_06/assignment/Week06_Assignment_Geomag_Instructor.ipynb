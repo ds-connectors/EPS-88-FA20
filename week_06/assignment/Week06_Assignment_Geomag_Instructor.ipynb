{
 "cells": [
  {
   "cell_type": "markdown",
   "metadata": {},
   "source": [
    "# Earth's geomagnetic polarity timescale and the Gamma distribution\n",
    "\n",
    "Earth’s magnetic field varies with time. The most dramatic aspect of this variation is that it reverses its polarity. The field structure in both the normal and reversed states is dipolar (like a bar magnetic), but the pole locations are switched. The timescale that it takes for the field to reverse is relatively short (a few thousand years) compared to the time that it is typically in a given polarity.\n",
    "\n",
    "<img src=\"./images/normal_reversed.png\" width = 600>\n",
    "\n",
    "> Source: Earth’s Dynamic Systems\n",
    "(10th Edition) Hamblin, W. K. and Christiansen, E. H.\n",
    "\n",
    "\n",
    "You have now dealt in detail with data that is developed by research vessels towing a \n",
    "magnetometer measure the marine magnetic anomalies. As you saw, the history of reversals is recorded by the oceanic crust as it forms at the ridge with both sides of the ridge record this pattern of reversals leading to symmetry about the ridge. Both the marine magnetic anomalies and records of the magnetic field on land in sedimentary rocks and lava flows have led to the development of the geomagnetic polarity time scale (GPTS). \n",
    "\n",
    "<img src=\"./images/GPTS.png\" width = 600>\n",
    "\n",
    "> Source: Gee and Kent (2007) \"Source of Oceanic Magnetic Anomalies and the Geomagnetic Polarity Timescale\"\n",
    "\n",
    "## Geomagnetic reversals and the Poisson distribution\n",
    "\n",
    "Geomagnetic reversals are often interpretted to behave like a Poisson process. Recall from class that a Poisson process meets the following criteria:\n",
    "\n",
    "- Events are independent of each other.\n",
    "- The average rate (events per time period) is constant.\n",
    "- Two events cannot occur at the same time.\n",
    "\n",
    "In class, we used a Poisson distribution to describe the chance of observing meteors associated with a meteor shower."
   ]
  },
  {
   "cell_type": "markdown",
   "metadata": {},
   "source": [
    "## Setup\n",
    "\n",
    "Run this cell as it is to setup your environment."
   ]
  },
  {
   "cell_type": "code",
   "execution_count": 1,
   "metadata": {},
   "outputs": [
    {
     "name": "stdout",
     "output_type": "stream",
     "text": [
      "=====================================================================\n",
      "Assignment: Out-of-Class 6: Earth's geomagnetic polarity timescale and the Gamma distribution\n",
      "OK, version v1.17.0\n",
      "=====================================================================\n",
      "\n"
     ]
    }
   ],
   "source": [
    "import matplotlib.pyplot as plt\n",
    "import pandas as pd\n",
    "pd.options.display.max_rows = 50\n",
    "import numpy as np\n",
    "import scipy as sp\n",
    "\n",
    "from client.api.notebook import Notebook\n",
    "ok = Notebook('hw06.ok')"
   ]
  },
  {
   "cell_type": "markdown",
   "metadata": {},
   "source": [
    "**Import the geomagnetic polarity time scale data for the past 40 million years as a pandas dataframe. (1 point)**\n",
    "\n",
    "The GPTS.csv file has a start and end date for each polarity zone along with its polarity."
   ]
  },
  {
   "cell_type": "code",
   "execution_count": 2,
   "metadata": {},
   "outputs": [
    {
     "data": {
      "text/html": [
       "<div>\n",
       "<style scoped>\n",
       "    .dataframe tbody tr th:only-of-type {\n",
       "        vertical-align: middle;\n",
       "    }\n",
       "\n",
       "    .dataframe tbody tr th {\n",
       "        vertical-align: top;\n",
       "    }\n",
       "\n",
       "    .dataframe thead th {\n",
       "        text-align: right;\n",
       "    }\n",
       "</style>\n",
       "<table border=\"1\" class=\"dataframe\">\n",
       "  <thead>\n",
       "    <tr style=\"text-align: right;\">\n",
       "      <th></th>\n",
       "      <th>Start_Myr</th>\n",
       "      <th>End_Myr</th>\n",
       "      <th>Polarity</th>\n",
       "    </tr>\n",
       "  </thead>\n",
       "  <tbody>\n",
       "    <tr>\n",
       "      <th>0</th>\n",
       "      <td>0.780</td>\n",
       "      <td>0.000</td>\n",
       "      <td>normal</td>\n",
       "    </tr>\n",
       "    <tr>\n",
       "      <th>1</th>\n",
       "      <td>0.990</td>\n",
       "      <td>0.780</td>\n",
       "      <td>reverse</td>\n",
       "    </tr>\n",
       "    <tr>\n",
       "      <th>2</th>\n",
       "      <td>1.070</td>\n",
       "      <td>0.990</td>\n",
       "      <td>normal</td>\n",
       "    </tr>\n",
       "    <tr>\n",
       "      <th>3</th>\n",
       "      <td>1.201</td>\n",
       "      <td>1.070</td>\n",
       "      <td>reverse</td>\n",
       "    </tr>\n",
       "    <tr>\n",
       "      <th>4</th>\n",
       "      <td>1.211</td>\n",
       "      <td>1.201</td>\n",
       "      <td>normal</td>\n",
       "    </tr>\n",
       "  </tbody>\n",
       "</table>\n",
       "</div>"
      ],
      "text/plain": [
       "   Start_Myr  End_Myr Polarity\n",
       "0      0.780    0.000   normal\n",
       "1      0.990    0.780  reverse\n",
       "2      1.070    0.990   normal\n",
       "3      1.201    1.070  reverse\n",
       "4      1.211    1.201   normal"
      ]
     },
     "execution_count": 2,
     "metadata": {},
     "output_type": "execute_result"
    }
   ],
   "source": [
    "GPTS = pd.read_csv('GPTS.csv')\n",
    "GPTS.head()"
   ]
  },
  {
   "cell_type": "markdown",
   "metadata": {},
   "source": [
    "Let's use ```plt.fill()``` to make a plot that looks like the geomagnetic polarity time scale that is shown above. To make such a plot, let's make a list of reversal times when the field switched from normal (1) to reverse (-1) and an accompanying time list that we can then plot:"
   ]
  },
  {
   "cell_type": "code",
   "execution_count": 3,
   "metadata": {},
   "outputs": [
    {
     "data": {
      "image/png": "[encoded data removed]",
      "text/plain": [
       "<Figure size 1440x144 with 1 Axes>"
      ]
     },
     "metadata": {
      "needs_background": "light"
     },
     "output_type": "display_data"
    }
   ],
   "source": [
    "polarity_code = []\n",
    "time_list = []\n",
    "\n",
    "for i in GPTS.index:\n",
    "    if GPTS['Polarity'][i] == 'normal':\n",
    "        polarity_code.append(-1)\n",
    "        polarity_code.append(1)\n",
    "        time_list.append(GPTS['End_Myr'][i])\n",
    "        time_list.append(GPTS['End_Myr'][i])\n",
    "    if GPTS['Polarity'][i] == 'reverse':\n",
    "        polarity_code.append(1)\n",
    "        polarity_code.append(-1)\n",
    "        time_list.append(GPTS['End_Myr'][i])\n",
    "        time_list.append(GPTS['End_Myr'][i])\n",
    "        \n",
    "plt.figure(1,(20,2))\n",
    "plt.fill(time_list,polarity_code)\n",
    "plt.xlabel('Age, Myr')\n",
    "plt.ylabel('Polarity')\n",
    "plt.xlim(0,40)\n",
    "plt.ylim(-1,1)\n",
    "plt.title('Geomagnetic Polarity Time Scale')\n",
    "plt.show()"
   ]
  },
  {
   "cell_type": "markdown",
   "metadata": {},
   "source": [
    "**Calculate the average duration of a geomagnetic polarity zone (4 points).**\n",
    "\n",
    "To do this you can make a new column named `Zone_dur` in the Dataframe for polarity zone duration where you subtract the start date from the end date.\n",
    "\n",
    "You can then use ```np.mean()``` to calculate the mean duration, declare a variable named `average_polarity_zone_duration` with the mean polarity duration."
   ]
  },
  {
   "cell_type": "code",
   "execution_count": 4,
   "metadata": {},
   "outputs": [
    {
     "data": {
      "text/html": [
       "<div>\n",
       "<style scoped>\n",
       "    .dataframe tbody tr th:only-of-type {\n",
       "        vertical-align: middle;\n",
       "    }\n",
       "\n",
       "    .dataframe tbody tr th {\n",
       "        vertical-align: top;\n",
       "    }\n",
       "\n",
       "    .dataframe thead th {\n",
       "        text-align: right;\n",
       "    }\n",
       "</style>\n",
       "<table border=\"1\" class=\"dataframe\">\n",
       "  <thead>\n",
       "    <tr style=\"text-align: right;\">\n",
       "      <th></th>\n",
       "      <th>Start_Myr</th>\n",
       "      <th>End_Myr</th>\n",
       "      <th>Polarity</th>\n",
       "      <th>Zone_dur</th>\n",
       "    </tr>\n",
       "  </thead>\n",
       "  <tbody>\n",
       "    <tr>\n",
       "      <th>0</th>\n",
       "      <td>0.780</td>\n",
       "      <td>0.000</td>\n",
       "      <td>normal</td>\n",
       "      <td>0.780</td>\n",
       "    </tr>\n",
       "    <tr>\n",
       "      <th>1</th>\n",
       "      <td>0.990</td>\n",
       "      <td>0.780</td>\n",
       "      <td>reverse</td>\n",
       "      <td>0.210</td>\n",
       "    </tr>\n",
       "    <tr>\n",
       "      <th>2</th>\n",
       "      <td>1.070</td>\n",
       "      <td>0.990</td>\n",
       "      <td>normal</td>\n",
       "      <td>0.080</td>\n",
       "    </tr>\n",
       "    <tr>\n",
       "      <th>3</th>\n",
       "      <td>1.201</td>\n",
       "      <td>1.070</td>\n",
       "      <td>reverse</td>\n",
       "      <td>0.131</td>\n",
       "    </tr>\n",
       "    <tr>\n",
       "      <th>4</th>\n",
       "      <td>1.211</td>\n",
       "      <td>1.201</td>\n",
       "      <td>normal</td>\n",
       "      <td>0.010</td>\n",
       "    </tr>\n",
       "    <tr>\n",
       "      <th>...</th>\n",
       "      <td>...</td>\n",
       "      <td>...</td>\n",
       "      <td>...</td>\n",
       "      <td>...</td>\n",
       "    </tr>\n",
       "    <tr>\n",
       "      <th>155</th>\n",
       "      <td>38.426</td>\n",
       "      <td>38.113</td>\n",
       "      <td>reverse</td>\n",
       "      <td>0.313</td>\n",
       "    </tr>\n",
       "    <tr>\n",
       "      <th>156</th>\n",
       "      <td>39.552</td>\n",
       "      <td>38.426</td>\n",
       "      <td>normal</td>\n",
       "      <td>1.126</td>\n",
       "    </tr>\n",
       "    <tr>\n",
       "      <th>157</th>\n",
       "      <td>39.631</td>\n",
       "      <td>39.552</td>\n",
       "      <td>reverse</td>\n",
       "      <td>0.079</td>\n",
       "    </tr>\n",
       "    <tr>\n",
       "      <th>158</th>\n",
       "      <td>40.130</td>\n",
       "      <td>39.631</td>\n",
       "      <td>normal</td>\n",
       "      <td>0.499</td>\n",
       "    </tr>\n",
       "    <tr>\n",
       "      <th>159</th>\n",
       "      <td>41.257</td>\n",
       "      <td>40.130</td>\n",
       "      <td>reverse</td>\n",
       "      <td>1.127</td>\n",
       "    </tr>\n",
       "  </tbody>\n",
       "</table>\n",
       "<p>160 rows × 4 columns</p>\n",
       "</div>"
      ],
      "text/plain": [
       "     Start_Myr  End_Myr Polarity  Zone_dur\n",
       "0        0.780    0.000   normal     0.780\n",
       "1        0.990    0.780  reverse     0.210\n",
       "2        1.070    0.990   normal     0.080\n",
       "3        1.201    1.070  reverse     0.131\n",
       "4        1.211    1.201   normal     0.010\n",
       "..         ...      ...      ...       ...\n",
       "155     38.426   38.113  reverse     0.313\n",
       "156     39.552   38.426   normal     1.126\n",
       "157     39.631   39.552  reverse     0.079\n",
       "158     40.130   39.631   normal     0.499\n",
       "159     41.257   40.130  reverse     1.127\n",
       "\n",
       "[160 rows x 4 columns]"
      ]
     },
     "execution_count": 4,
     "metadata": {},
     "output_type": "execute_result"
    }
   ],
   "source": [
    "GPTS['Zone_dur']=abs(GPTS['End_Myr']-GPTS['Start_Myr'])\n",
    "GPTS"
   ]
  },
  {
   "cell_type": "code",
   "execution_count": 5,
   "metadata": {},
   "outputs": [],
   "source": [
    "average_polarity_zone_duration = np.mean(GPTS['Zone_dur'])"
   ]
  },
  {
   "cell_type": "code",
   "execution_count": 6,
   "metadata": {},
   "outputs": [
    {
     "name": "stdout",
     "output_type": "stream",
     "text": [
      "~~~~~~~~~~~~~~~~~~~~~~~~~~~~~~~~~~~~~~~~~~~~~~~~~~~~~~~~~~~~~~~~~~~~~\n",
      "Running tests\n",
      "\n",
      "---------------------------------------------------------------------\n",
      "Test summary\n",
      "    Passed: 1\n",
      "    Failed: 0\n",
      "[ooooooooook] 100.0% passed\n",
      "\n"
     ]
    }
   ],
   "source": [
    "_ = ok.grade('q1_1') "
   ]
  },
  {
   "cell_type": "markdown",
   "metadata": {},
   "source": [
    "**How does the duration of the current normal polarity zone compare to the average duration of a polarity (i.e. time between reversals) over the past 40 million years? (2 points)**\n",
    "\n",
    "*write your answer here*\n"
   ]
  },
  {
   "cell_type": "markdown",
   "metadata": {},
   "source": [
    "**Plot a histogram of the polarity zone duration (1 point)**\n",
    "\n",
    "This is an empirical distribution (i.e. it is the observed data). When you make the histogram, make sure that `density=True`. Add appropriate labels and a title."
   ]
  },
  {
   "cell_type": "code",
   "execution_count": 7,
   "metadata": {},
   "outputs": [
    {
     "data": {
      "image/png": "[encoded data removed]",
      "text/plain": [
       "<Figure size 432x288 with 1 Axes>"
      ]
     },
     "metadata": {
      "needs_background": "light"
     },
     "output_type": "display_data"
    }
   ],
   "source": [
    "plt.hist(GPTS['Zone_dur'],20,density=True)\n",
    "\n",
    "plt.xlabel('Polarity Duration') # add labels\n",
    "plt.ylabel('Fraction of reversals with this duration') \n",
    "\n",
    "plt.title('Geomagnetic Reversals')\n",
    "plt.show()"
   ]
  },
  {
   "cell_type": "markdown",
   "metadata": {},
   "source": [
    "**What percentile is the polarity zone duration of the current polarity zone? (4 points)**\n",
    "\n",
    "If a value is the smallest one (shortest duration), it will have a precentile of 0. If it is the largest one (longest duration), it will have a precentile of 100. The median is 50 percentile. If I have 124 values and the value I am calculating the percentile for is the 119th largest one, it has a percentile of 119/124 = 96th percentile.\n",
    "\n",
    "To determine the percentile, you can sort the data according to polarity zone duration. You can do this by applying the `.sort_values()` function to the Dataframe with the name of your duration column being the input parameter. Also include the parameter `inplace=True` to have it stay sorted. To determine what rank it has you can use the function `.reset_index(inplace=True)` on the dataframe and then find what rank it is which you can then use to calculate the percentile.\n",
    "\n",
    "Details on percentile can be found in this inferential thinking chapter:\n",
    "https://www.inferentialthinking.com/chapters/13/1/Percentiles.html\n",
    "\n",
    "*Note that the percentile function they refer to is np.percentile*\n",
    "\n",
    "Declare a variable named `percentile_current_zone` with your answer."
   ]
  },
  {
   "cell_type": "code",
   "execution_count": 8,
   "metadata": {},
   "outputs": [
    {
     "name": "stdout",
     "output_type": "stream",
     "text": [
      "     index  Start_Myr  End_Myr Polarity  Zone_dur\n",
      "150      0       0.78      0.0   normal      0.78\n"
     ]
    }
   ],
   "source": [
    "GPTS.sort_values(by=['Zone_dur'],inplace=True)\n",
    "GPTS.reset_index(inplace=True)\n",
    "print(GPTS.loc[GPTS['index']==0])"
   ]
  },
  {
   "cell_type": "code",
   "execution_count": 9,
   "metadata": {},
   "outputs": [],
   "source": [
    "percentile_current_zone=150/159"
   ]
  },
  {
   "cell_type": "code",
   "execution_count": 10,
   "metadata": {},
   "outputs": [
    {
     "name": "stdout",
     "output_type": "stream",
     "text": [
      "~~~~~~~~~~~~~~~~~~~~~~~~~~~~~~~~~~~~~~~~~~~~~~~~~~~~~~~~~~~~~~~~~~~~~\n",
      "Running tests\n",
      "\n",
      "---------------------------------------------------------------------\n",
      "Test summary\n",
      "    Passed: 1\n",
      "    Failed: 0\n",
      "[ooooooooook] 100.0% passed\n",
      "\n"
     ]
    }
   ],
   "source": [
    "_ = ok.grade('q1_2') "
   ]
  },
  {
   "cell_type": "markdown",
   "metadata": {},
   "source": [
    "## Can we describe polarity zone duration with a theoretical distribution?"
   ]
  },
  {
   "cell_type": "markdown",
   "metadata": {},
   "source": [
    "### Gamma distribution:\n",
    "\n",
    "In class, we discussed the binomial distribution and the Poisson distribution. Another related distribution is the **Gamma distribution**. The **Gamma distribution** is the probability of a given waiting time between Poisson-distributed events (that is an event that randomly occurs but for which is there is an average time period between the events).\n",
    "\n",
    "The Gamma distribution gives the probability of a waiting time between Poisson distributed events. For those of you that will appreciate the theoretical basis for this function, here it is below. But you will get a better sense of it by putting it into action:\n",
    "\n",
    "#### Theoretical\n",
    "\n",
    "Consider the distribution function $D(x)$ of waiting times until the $h$th Poisson event given a Poisson distribution with a rate of change $\\lambda$,\n",
    "\n",
    "$$ D(x) = P (X \\le x) = 1 - P(X > x) = 1-\\sum_{k=0}^{h-1}\\frac{(\\lambda x)^{k}e^{-\\lambda x}}{k!} = 1-e^{-\\lambda x}\\sum_{k=0}^{h-1}\\frac{(\\lambda x)^{k}}{k!} = 1-\\frac{\\Gamma(h,x\\lambda) }{\\Gamma (h)}$$ \n",
    "\n",
    "where $\\Gamma (x) = (x-1)!$ is a complete gamma function and $\\Gamma (n,x) = (n-1)! e^{-x}\\sum_{k=0}^{n-1}\\frac{x^{k}}{k!}$ an incomplete gamma function. The corresponding probability function $P(x)$ of waiting times until the $h$th Poisson event is then obtained by differentiating  $D(x)$,\n",
    "\n",
    "$$ P(x) = D'(x) = \\frac{\\lambda (\\lambda x)^{h-1}}{(h-1)!}e^{-\\lambda x} $$\n",
    "\n",
    "Now let $\\alpha=h$ (not necessarily an integer) and define $\\theta=1/\\lambda$ to be the time between changes. Then the above equation can be written\n",
    "\n",
    "$$ P(x) = \\frac{x^{\\alpha-1}e^{-x/\\theta}}{\\Gamma (\\alpha) \\theta^{\\alpha}} $$\n",
    "\n",
    "which is the probability of a duration time $x$ between events.\n",
    "\n",
    "$\\theta$ is the expected time between reversals and we will follow McFadden (1984) and define $\\theta = \\mu / \\alpha$ where $\\mu$ is the average chron duration. A value for $\\alpha$ greater than one can be interpreted either as an artefact linked to some short intervals missing in the GPTS or to some short term memory within the dynamo that would inhibit a second reversal just after a first one has occurred. McFadden (1984) use a value for $\\alpha$ of 1.2.\n",
    "\n",
    "<img src=\"./images/alpha_greater_one.png\" width = 600>\n",
    "\n",
    "> Source: McFadden (1984) \"Statistical Tools for the Analysis of Geomagnetic Reversal Sequence\""
   ]
  },
  {
   "cell_type": "code",
   "execution_count": 11,
   "metadata": {},
   "outputs": [],
   "source": [
    "from scipy.special import gamma\n",
    "def gamma_probability(x,mu,alpha):\n",
    "    \"\"\"\n",
    "    This function computes the probability waiting x time between poisson events (wuch as polarity change), \n",
    "    given theta the expected time between changes and alpha the shape parameter for the gamma distribution\n",
    "    \n",
    "    Parameters\n",
    "    ----------\n",
    "    x : the wait time use probability is being investigated\n",
    "    mu : average polarity zone duration\n",
    "    alpha : the shape parameter for the gamma distribution (1.2 for the GPTS according to McFadden (1984))\n",
    "    \n",
    "    Returns\n",
    "    -------\n",
    "    prob : probability of wait time x\n",
    "    \"\"\"\n",
    "    \n",
    "    theta = mu/alpha\n",
    "    prob = (x**(alpha - 1) * np.exp(-1*x/theta)) / (gamma(alpha)* theta**alpha)\n",
    "    \n",
    "    return prob"
   ]
  },
  {
   "cell_type": "markdown",
   "metadata": {},
   "source": [
    "**Plot the theoretical gamma probability in comparison to the actual distribution (1 point)**\n",
    "\n",
    "Use the `gamma_probability()` function and calculate $P$ the probability of observing a polarity zone for each value in a range ```np.arange(0.0,3.0,0.1)```. Then plot the resulting curve on top of the polarity zone duration histogram. Make sure to label the plotted lines, put on a legend and label the axis. Following McFadden (1984), **use an alpha value of 1.2.**"
   ]
  },
  {
   "cell_type": "code",
   "execution_count": 12,
   "metadata": {},
   "outputs": [],
   "source": [
    "polarity_probability = []\n",
    "wait= np.arange(0.0,3.0,0.01)\n",
    "\n",
    "for i in np.arange(0,len(wait)):\n",
    "    prob = gamma_probability(wait[i],average_polarity_zone_duration,1.2)\n",
    "    polarity_probability.append(prob)"
   ]
  },
  {
   "cell_type": "code",
   "execution_count": 13,
   "metadata": {},
   "outputs": [
    {
     "data": {
      "image/png": "[encoded data removed]",
      "text/plain": [
       "<Figure size 432x288 with 1 Axes>"
      ]
     },
     "metadata": {
      "needs_background": "light"
     },
     "output_type": "display_data"
    }
   ],
   "source": [
    "plt.hist(GPTS['Zone_dur'],20,density=True,label='Observed')\n",
    "plt.plot(wait,polarity_probability,label='Predicted')\n",
    "\n",
    "plt.xlabel('Polarity Duration') # add labels\n",
    "plt.ylabel('Fraction of reversals with this duration') \n",
    "plt.legend()\n",
    "\n",
    "plt.title('Geomagnetic Reversals');"
   ]
  },
  {
   "cell_type": "markdown",
   "metadata": {},
   "source": [
    "#### Empirical and simulated\n",
    "\n",
    "The observed GPTS gives us one realization of an empirical distribution. We can use the function `np.random.gamma` to simulate additional empirical distributions."
   ]
  },
  {
   "cell_type": "code",
   "execution_count": 14,
   "metadata": {},
   "outputs": [
    {
     "name": "stdout",
     "output_type": "stream",
     "text": [
      "Help on built-in function gamma:\n",
      "\n",
      "gamma(...) method of numpy.random.mtrand.RandomState instance\n",
      "    gamma(shape, scale=1.0, size=None)\n",
      "    \n",
      "    Draw samples from a Gamma distribution.\n",
      "    \n",
      "    Samples are drawn from a Gamma distribution with specified parameters,\n",
      "    `shape` (sometimes designated \"k\") and `scale` (sometimes designated\n",
      "    \"theta\"), where both parameters are > 0.\n",
      "    \n",
      "    .. note::\n",
      "        New code should use the ``gamma`` method of a ``default_rng()``\n",
      "        instance instead; see `random-quick-start`.\n",
      "    \n",
      "    Parameters\n",
      "    ----------\n",
      "    shape : float or array_like of floats\n",
      "        The shape of the gamma distribution. Must be non-negative.\n",
      "    scale : float or array_like of floats, optional\n",
      "        The scale of the gamma distribution. Must be non-negative.\n",
      "        Default is equal to 1.\n",
      "    size : int or tuple of ints, optional\n",
      "        Output shape.  If the given shape is, e.g., ``(m, n, k)``, then\n",
      "        ``m * n * k`` samples are drawn.  If size is ``None`` (default),\n",
      "        a single value is returned if ``shape`` and ``scale`` are both scalars.\n",
      "        Otherwise, ``np.broadcast(shape, scale).size`` samples are drawn.\n",
      "    \n",
      "    Returns\n",
      "    -------\n",
      "    out : ndarray or scalar\n",
      "        Drawn samples from the parameterized gamma distribution.\n",
      "    \n",
      "    See Also\n",
      "    --------\n",
      "    scipy.stats.gamma : probability density function, distribution or\n",
      "        cumulative density function, etc.\n",
      "    Generator.gamma: which should be used for new code.\n",
      "    \n",
      "    Notes\n",
      "    -----\n",
      "    The probability density for the Gamma distribution is\n",
      "    \n",
      "    .. math:: p(x) = x^{k-1}\\frac{e^{-x/\\theta}}{\\theta^k\\Gamma(k)},\n",
      "    \n",
      "    where :math:`k` is the shape and :math:`\\theta` the scale,\n",
      "    and :math:`\\Gamma` is the Gamma function.\n",
      "    \n",
      "    The Gamma distribution is often used to model the times to failure of\n",
      "    electronic components, and arises naturally in processes for which the\n",
      "    waiting times between Poisson distributed events are relevant.\n",
      "    \n",
      "    References\n",
      "    ----------\n",
      "    .. [1] Weisstein, Eric W. \"Gamma Distribution.\" From MathWorld--A\n",
      "           Wolfram Web Resource.\n",
      "           http://mathworld.wolfram.com/GammaDistribution.html\n",
      "    .. [2] Wikipedia, \"Gamma distribution\",\n",
      "           https://en.wikipedia.org/wiki/Gamma_distribution\n",
      "    \n",
      "    Examples\n",
      "    --------\n",
      "    Draw samples from the distribution:\n",
      "    \n",
      "    >>> shape, scale = 2., 2.  # mean=4, std=2*sqrt(2)\n",
      "    >>> s = np.random.gamma(shape, scale, 1000)\n",
      "    \n",
      "    Display the histogram of the samples, along with\n",
      "    the probability density function:\n",
      "    \n",
      "    >>> import matplotlib.pyplot as plt\n",
      "    >>> import scipy.special as sps  # doctest: +SKIP\n",
      "    >>> count, bins, ignored = plt.hist(s, 50, density=True)\n",
      "    >>> y = bins**(shape-1)*(np.exp(-bins/scale) /  # doctest: +SKIP\n",
      "    ...                      (sps.gamma(shape)*scale**shape))\n",
      "    >>> plt.plot(bins, y, linewidth=2, color='r')  # doctest: +SKIP\n",
      "    >>> plt.show()\n",
      "\n"
     ]
    }
   ],
   "source": [
    "help(np.random.gamma)"
   ]
  },
  {
   "cell_type": "markdown",
   "metadata": {},
   "source": [
    "**Use the `np.random.gamma` function to simulate polarity zones (4 points)**  \n",
    "\n",
    "`np.random.gamma( )`  has 2 specified parameters: `shape` (sometimes designated \"$\\alpha$\") and `scale` (sometimes designated \"$\\theta$\"), and an optional keyword argument `size` (if `size` is not specified, it returns a single trial). Each call to `np.random.gamma( )` returns a chron duration pulled from the gamma distribution.\n",
    "\n",
    "So to get random chron lengths use ```np.random.gamma(shape, scale=1.0, size=None)``` where: \n",
    "\n",
    "- shape = 1.2 (the alpha we used before)\n",
    "- scale = average_polarity_zone_duration/1.2\n",
    "- size = number of polarity zones (so we get random simulated data that is the same length as our original data set)"
   ]
  },
  {
   "cell_type": "code",
   "execution_count": 15,
   "metadata": {},
   "outputs": [],
   "source": [
    "sim_revs = np.random.gamma(1.2,scale=average_polarity_zone_duration/1.2,size=len(GPTS))"
   ]
  },
  {
   "cell_type": "markdown",
   "metadata": {},
   "source": [
    "**Plot a histogram of the simulated data, the observed data and the theoretical distribution (1 point)**\n",
    "\n",
    "They should look pretty similar to each other."
   ]
  },
  {
   "cell_type": "code",
   "execution_count": 16,
   "metadata": {},
   "outputs": [
    {
     "data": {
      "image/png": "[encoded data removed]",
      "text/plain": [
       "<Figure size 432x288 with 1 Axes>"
      ]
     },
     "metadata": {
      "needs_background": "light"
     },
     "output_type": "display_data"
    }
   ],
   "source": [
    "plt.hist(GPTS['Zone_dur'],20,density=True,label='Observed')\n",
    "plt.hist(sim_revs,20,density=True,label='Emperical')\n",
    "plt.plot(wait,polarity_probability,label='Predicted')\n",
    "\n",
    "plt.xlabel('Polarity Duration') # add labels\n",
    "plt.ylabel('Fraction of reversals with this duration') \n",
    "plt.legend()\n",
    "\n",
    "plt.title('Geomagnetic Reversals');"
   ]
  },
  {
   "cell_type": "markdown",
   "metadata": {},
   "source": [
    "**Figure out a way to plot your new random polarity time scale like we did for the actual time scale above (2 points)**"
   ]
  },
  {
   "cell_type": "code",
   "execution_count": 17,
   "metadata": {},
   "outputs": [
    {
     "data": {
      "text/html": [
       "<div>\n",
       "<style scoped>\n",
       "    .dataframe tbody tr th:only-of-type {\n",
       "        vertical-align: middle;\n",
       "    }\n",
       "\n",
       "    .dataframe tbody tr th {\n",
       "        vertical-align: top;\n",
       "    }\n",
       "\n",
       "    .dataframe thead th {\n",
       "        text-align: right;\n",
       "    }\n",
       "</style>\n",
       "<table border=\"1\" class=\"dataframe\">\n",
       "  <thead>\n",
       "    <tr style=\"text-align: right;\">\n",
       "      <th></th>\n",
       "      <th>Polarity</th>\n",
       "      <th>Zone_dur</th>\n",
       "      <th>Start_Myr</th>\n",
       "      <th>End_Myr</th>\n",
       "    </tr>\n",
       "  </thead>\n",
       "  <tbody>\n",
       "    <tr>\n",
       "      <th>150</th>\n",
       "      <td>normal</td>\n",
       "      <td>0.949230</td>\n",
       "      <td>0.949230</td>\n",
       "      <td>0.000000</td>\n",
       "    </tr>\n",
       "    <tr>\n",
       "      <th>96</th>\n",
       "      <td>reverse</td>\n",
       "      <td>0.401431</td>\n",
       "      <td>1.350660</td>\n",
       "      <td>0.949230</td>\n",
       "    </tr>\n",
       "    <tr>\n",
       "      <th>38</th>\n",
       "      <td>normal</td>\n",
       "      <td>0.089242</td>\n",
       "      <td>1.439903</td>\n",
       "      <td>1.350660</td>\n",
       "    </tr>\n",
       "    <tr>\n",
       "      <th>62</th>\n",
       "      <td>reverse</td>\n",
       "      <td>0.423079</td>\n",
       "      <td>1.862982</td>\n",
       "      <td>1.439903</td>\n",
       "    </tr>\n",
       "    <tr>\n",
       "      <th>1</th>\n",
       "      <td>normal</td>\n",
       "      <td>0.447329</td>\n",
       "      <td>2.310311</td>\n",
       "      <td>1.862982</td>\n",
       "    </tr>\n",
       "    <tr>\n",
       "      <th>...</th>\n",
       "      <td>...</td>\n",
       "      <td>...</td>\n",
       "      <td>...</td>\n",
       "      <td>...</td>\n",
       "    </tr>\n",
       "    <tr>\n",
       "      <th>118</th>\n",
       "      <td>reverse</td>\n",
       "      <td>0.007581</td>\n",
       "      <td>40.483378</td>\n",
       "      <td>40.475796</td>\n",
       "    </tr>\n",
       "    <tr>\n",
       "      <th>157</th>\n",
       "      <td>normal</td>\n",
       "      <td>0.016416</td>\n",
       "      <td>40.499794</td>\n",
       "      <td>40.483378</td>\n",
       "    </tr>\n",
       "    <tr>\n",
       "      <th>37</th>\n",
       "      <td>reverse</td>\n",
       "      <td>0.713058</td>\n",
       "      <td>41.212851</td>\n",
       "      <td>40.499794</td>\n",
       "    </tr>\n",
       "    <tr>\n",
       "      <th>140</th>\n",
       "      <td>normal</td>\n",
       "      <td>0.203427</td>\n",
       "      <td>41.416278</td>\n",
       "      <td>41.212851</td>\n",
       "    </tr>\n",
       "    <tr>\n",
       "      <th>158</th>\n",
       "      <td>reverse</td>\n",
       "      <td>0.205917</td>\n",
       "      <td>41.622195</td>\n",
       "      <td>41.416278</td>\n",
       "    </tr>\n",
       "  </tbody>\n",
       "</table>\n",
       "<p>160 rows × 4 columns</p>\n",
       "</div>"
      ],
      "text/plain": [
       "    Polarity  Zone_dur  Start_Myr    End_Myr\n",
       "150   normal  0.949230   0.949230   0.000000\n",
       "96   reverse  0.401431   1.350660   0.949230\n",
       "38    normal  0.089242   1.439903   1.350660\n",
       "62   reverse  0.423079   1.862982   1.439903\n",
       "1     normal  0.447329   2.310311   1.862982\n",
       "..       ...       ...        ...        ...\n",
       "118  reverse  0.007581  40.483378  40.475796\n",
       "157   normal  0.016416  40.499794  40.483378\n",
       "37   reverse  0.713058  41.212851  40.499794\n",
       "140   normal  0.203427  41.416278  41.212851\n",
       "158  reverse  0.205917  41.622195  41.416278\n",
       "\n",
       "[160 rows x 4 columns]"
      ]
     },
     "execution_count": 17,
     "metadata": {},
     "output_type": "execute_result"
    }
   ],
   "source": [
    "d={'Polarity':GPTS.sort_values(by=['index'])['Polarity'],'Zone_dur':sim_revs}\n",
    "sim_GPTS=pd.DataFrame(data=d)\n",
    "sim_GPTS['Start_Myr']=np.cumsum(sim_revs)\n",
    "sim_GPTS['End_Myr']= sim_GPTS['Start_Myr']-sim_GPTS['Zone_dur']\n",
    "sim_GPTS"
   ]
  },
  {
   "cell_type": "code",
   "execution_count": 18,
   "metadata": {},
   "outputs": [
    {
     "data": {
      "image/png": "[encoded data removed]",
      "text/plain": [
       "<Figure size 1440x144 with 1 Axes>"
      ]
     },
     "metadata": {
      "needs_background": "light"
     },
     "output_type": "display_data"
    }
   ],
   "source": [
    "sim_polarity_code = []\n",
    "sim_time_list = []\n",
    "\n",
    "for i in sim_GPTS.index:\n",
    "    if sim_GPTS['Polarity'][i] == 'normal':\n",
    "        sim_polarity_code.append(-1)\n",
    "        sim_polarity_code.append(1)\n",
    "        sim_time_list.append(sim_GPTS['End_Myr'][i])\n",
    "        sim_time_list.append(sim_GPTS['End_Myr'][i])\n",
    "    if sim_GPTS['Polarity'][i] == 'reverse':\n",
    "        sim_polarity_code.append(1)\n",
    "        sim_polarity_code.append(-1)\n",
    "        sim_time_list.append(sim_GPTS['End_Myr'][i])\n",
    "        sim_time_list.append(sim_GPTS['End_Myr'][i])\n",
    "        \n",
    "plt.figure(1,(20,2))\n",
    "plt.fill(sim_time_list,sim_polarity_code)\n",
    "plt.xlabel('Age, Myr')\n",
    "plt.ylabel('Polarity')\n",
    "plt.xlim(0,40)\n",
    "plt.ylim(-1,1)\n",
    "plt.title('Simulated Geomagnetic Polarity Time Scale')\n",
    "plt.show()"
   ]
  },
  {
   "cell_type": "markdown",
   "metadata": {},
   "source": [
    "### Will the field reverse soon?!\n",
    "But what we _really_ would like to know is how likely is it that a polarity reversal will happen soon. The current normal chron has been going on for 0.78 Myr. To find the probability that a reversal will happen in the next say 10 thousand years we need to find that probability of a chron that is longer than 0.78 Myr but shorter than 0.79 Myr. \n",
    "$$P (0.78 \\le X \\le 0.79) = P(X \\le 0.79) - P(X \\le 0.78) = (1 - P(0.79)) - (1 - P(0.78))$$\n",
    "**Use the ```gamma_probability``` function to do this calculation (4 points). Declare a variable `P_rev_soon` with your answer.**"
   ]
  },
  {
   "cell_type": "code",
   "execution_count": 19,
   "metadata": {},
   "outputs": [
    {
     "data": {
      "text/plain": [
       "0.007485773073145352"
      ]
     },
     "execution_count": 19,
     "metadata": {},
     "output_type": "execute_result"
    }
   ],
   "source": [
    "P_rev_soon = (1-gamma_probability(0.79,average_polarity_zone_duration,1.2))-(1-gamma_probability(0.78,average_polarity_zone_duration,1.2))\n",
    "P_rev_soon"
   ]
  },
  {
   "cell_type": "code",
   "execution_count": 20,
   "metadata": {},
   "outputs": [
    {
     "name": "stdout",
     "output_type": "stream",
     "text": [
      "~~~~~~~~~~~~~~~~~~~~~~~~~~~~~~~~~~~~~~~~~~~~~~~~~~~~~~~~~~~~~~~~~~~~~\n",
      "Running tests\n",
      "\n",
      "---------------------------------------------------------------------\n",
      "Test summary\n",
      "    Passed: 1\n",
      "    Failed: 0\n",
      "[ooooooooook] 100.0% passed\n",
      "\n"
     ]
    }
   ],
   "source": [
    "_ = ok.grade('q1_3') "
   ]
  },
  {
   "cell_type": "markdown",
   "metadata": {},
   "source": [
    "**Based on this probability, you think the field is about to reverse? (1 point)**\n",
    "\n",
    "*Write your answer here*"
   ]
  },
  {
   "cell_type": "markdown",
   "metadata": {},
   "source": [
    "**Export the notebook as .html and upload to bCourses**"
   ]
  },
  {
   "cell_type": "code",
   "execution_count": null,
   "metadata": {},
   "outputs": [],
   "source": []
  }
 ],
 "metadata": {
  "kernelspec": {
   "display_name": "Python 3",
   "language": "python",
   "name": "python3"
  },
  "language_info": {
   "codemirror_mode": {
    "name": "ipython",
    "version": 3
   },
   "file_extension": ".py",
   "mimetype": "text/x-python",
   "name": "python",
   "nbconvert_exporter": "python",
   "pygments_lexer": "ipython3",
   "version": "3.7.7"
  }
 },
 "nbformat": 4,
 "nbformat_minor": 4
}
