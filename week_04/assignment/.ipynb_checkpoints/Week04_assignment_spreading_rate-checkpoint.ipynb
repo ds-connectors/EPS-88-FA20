{
 "cells": [
  {
   "cell_type": "markdown",
   "metadata": {},
   "source": [
    "# Seafloor Spreading Rates\n",
    "\n",
    "**Our goals for today:**\n",
    "- Line fitting (linear regression) by eye\n",
    "- Determine the spreading rate of various ocean ridges"
   ]
  },
  {
   "cell_type": "markdown",
   "metadata": {},
   "source": [
    "## Setup\n",
    "\n",
    "Run this cell as it is to setup your environment."
   ]
  },
  {
   "cell_type": "code",
   "execution_count": null,
   "metadata": {},
   "outputs": [],
   "source": [
    "import numpy as np\n",
    "import matplotlib\n",
    "import matplotlib.pyplot as plt\n",
    "import pandas as pd\n",
    "from cartopy import config\n",
    "import cartopy.crs as ccrs"
   ]
  },
  {
   "cell_type": "markdown",
   "metadata": {},
   "source": [
    "Now we will look at the relationship between seafloor age (Myr) and distance from the ridge (km) to determine the velocity of the spreading between oceanic plates (km/Myr)."
   ]
  },
  {
   "cell_type": "markdown",
   "metadata": {},
   "source": [
    "### Mid-Atlantic Ridge"
   ]
  },
  {
   "cell_type": "markdown",
   "metadata": {},
   "source": [
    "The data you'll be working with for this assignment are the location picks of the geomagnetic reversals we explored in the in-class notebook."
   ]
  },
  {
   "cell_type": "code",
   "execution_count": null,
   "metadata": {},
   "outputs": [],
   "source": [
    "# data from the Mid-Atlantic Ridge\n",
    "atlantic_data=pd.read_csv('MAR_east_age_dist.csv')\n",
    "atlantic_data.head()"
   ]
  },
  {
   "cell_type": "markdown",
   "metadata": {},
   "source": [
    "We'll plot the location of these age picks."
   ]
  },
  {
   "cell_type": "code",
   "execution_count": null,
   "metadata": {},
   "outputs": [],
   "source": [
    "fig = plt.figure(figsize=(15,15))\n",
    "ax = plt.axes(projection=ccrs.Robinson(-46.0))\n",
    "ax.set_extent([-90.0, 0.0, 0.0, 60.0], crs=ccrs.PlateCarree())\n",
    "\n",
    "plt.scatter(atlantic_data['Lon'],atlantic_data['Lat'],marker='o',c=atlantic_data['Age'],\n",
    "            vmin=0,vmax=100,cmap='jet_r',transform=ccrs.PlateCarree())\n",
    "plt.colorbar(shrink=0.6,label='Age Myr')\n",
    "\n",
    "ax.coastlines()\n",
    "ax.stock_img()\n",
    "ax.gridlines()\n",
    "\n",
    "plt.show()"
   ]
  },
  {
   "cell_type": "markdown",
   "metadata": {},
   "source": [
    "Plot the distance from the ridge as a function of seafloor age. Include axes labels and a title.\n",
    "\n",
    "<font color=goldenrod>**_Code for you to write_**</font>"
   ]
  },
  {
   "cell_type": "code",
   "execution_count": null,
   "metadata": {},
   "outputs": [],
   "source": []
  },
  {
   "cell_type": "markdown",
   "metadata": {},
   "source": [
    "Now you'll compute the velocity the tectonic plate is moving at by finding the slope of a line going through the distance vs. age plot. To fit a line through two data points - which is decribed by the equation $y = mx + b$ where $m$ is the slope and $b$ is the y-intercept - you compute the slope as the $m = \\frac{rise}{run}=\\frac{y_{1}-y_{0}}{x_{1}-x_{0}}$ and then plug that slope in and solve for the y-intercept $b=y_{1}-mx_{1}$. For example:"
   ]
  },
  {
   "cell_type": "code",
   "execution_count": null,
   "metadata": {},
   "outputs": [],
   "source": [
    "x = np.asarray([3.0, 5.0]);\n",
    "y = np.asarray([2.0, 7.0]);\n",
    "\n",
    "m = (y[1]-y[0])/(x[1]-x[0]);  # use the two points to find the slope rise/run, dy/dx\n",
    "b = y[1]-m*x[1]  # solve for the y-intercept\n",
    "\n",
    "plt.figure(1,(5,5)) \n",
    "plt.plot(x,y,'o')\n",
    "plt.plot(x,m*x+b,'-')\n",
    "plt.xlabel('X ', fontsize=16);\n",
    "plt.ylabel('Y', fontsize=16);\n",
    "plt.grid()"
   ]
  },
  {
   "cell_type": "markdown",
   "metadata": {},
   "source": [
    "Define a function that takes the x and y coordinates of two data points and returns the slope and y-intercept of the line that connects them.\n",
    "\n",
    "<font color=goldenrod>**_Code for you to write_**</font>"
   ]
  },
  {
   "cell_type": "code",
   "execution_count": null,
   "metadata": {},
   "outputs": [],
   "source": [
    "def mx_b(x0,y0,x1,y1):\n",
    "    \"\"\"\n",
    "    Function to compute the slope and intercept of a line\n",
    "    \n",
    "    input parameters\n",
    "    ----------\n",
    "    x0,y0: first coordinate pair\n",
    "    x1,y1: second coordinate pair\n",
    "    \n",
    "    output\n",
    "    ------\n",
    "    m : slope of line that connects (x0,y0) and (x1,y1)\n",
    "    b : slope of line that connects (x0,y0) and (x1,y1)\n",
    "    \"\"\"\n",
    "    \n",
    "    #add your code here\n",
    "\n",
    "    return m,b"
   ]
  },
  {
   "cell_type": "markdown",
   "metadata": {},
   "source": [
    "Use your function to approximate a line that goes through the distance vs. age plot for the atlantic. You should pick two x,y coordinates that lie within the data and compute the line that connects them.\n",
    "\n",
    "<font color=goldenrod>**_Code for you to write_**</font>"
   ]
  },
  {
   "cell_type": "code",
   "execution_count": null,
   "metadata": {},
   "outputs": [],
   "source": []
  },
  {
   "cell_type": "markdown",
   "metadata": {},
   "source": [
    "Add this line to your plot of Atlantic distance vs. age.\n",
    "\n",
    "<font color=goldenrod>**_Code for you to write_**</font>"
   ]
  },
  {
   "cell_type": "code",
   "execution_count": null,
   "metadata": {},
   "outputs": [],
   "source": []
  },
  {
   "cell_type": "markdown",
   "metadata": {},
   "source": [
    "What is the spreading rate velocity of the plate away from the Mid-Atlantic Ridge?"
   ]
  },
  {
   "cell_type": "markdown",
   "metadata": {},
   "source": [
    "__Write your answer here.__"
   ]
  },
  {
   "cell_type": "markdown",
   "metadata": {},
   "source": [
    "### Pacific Antarctic Ridge"
   ]
  },
  {
   "cell_type": "markdown",
   "metadata": {},
   "source": [
    "Now for the Pacific Antarctic Ridge:"
   ]
  },
  {
   "cell_type": "code",
   "execution_count": null,
   "metadata": {},
   "outputs": [],
   "source": [
    "# data from the Pacific Antarctic Ridge\n",
    "pacific_data=pd.read_csv('PAR_east_age_dist.csv')\n",
    "pacific_data.head()"
   ]
  },
  {
   "cell_type": "code",
   "execution_count": null,
   "metadata": {},
   "outputs": [],
   "source": [
    "fig = plt.figure(figsize=(15,15))\n",
    "ax = plt.axes(projection=ccrs.Robinson(-46.0))\n",
    "ax.set_extent([-175.0, -90.0, -40.0, -80.0], crs=ccrs.PlateCarree())\n",
    "\n",
    "plt.scatter(pacific_data['Lon'],pacific_data['Lat'],marker='o',c=pacific_data['Age'],\n",
    "            vmin=0,vmax=100,cmap='jet_r',transform=ccrs.PlateCarree())\n",
    "plt.colorbar(shrink=0.4,label='Age Myr')\n",
    "\n",
    "ax.coastlines()\n",
    "ax.stock_img()\n",
    "ax.gridlines()\n",
    "\n",
    "plt.show()"
   ]
  },
  {
   "cell_type": "markdown",
   "metadata": {},
   "source": [
    "Plot the distance from the ridge as a function of seafloor age for the  Antarctic plate. Include axes labels and a title.\n",
    "\n",
    "<font color=goldenrod>**_Code for you to write_**</font>"
   ]
  },
  {
   "cell_type": "code",
   "execution_count": null,
   "metadata": {},
   "outputs": [],
   "source": []
  },
  {
   "cell_type": "markdown",
   "metadata": {},
   "source": [
    "Use your function to approximate a line that goes through the distance vs. age plot for the antarctic plate.\n",
    "\n",
    "<font color=goldenrod>**_Code for you to write_**</font>"
   ]
  },
  {
   "cell_type": "code",
   "execution_count": null,
   "metadata": {},
   "outputs": [],
   "source": []
  },
  {
   "cell_type": "markdown",
   "metadata": {},
   "source": [
    "Add this line to your plot of Atlantic distance vs. age.\n",
    "\n",
    "<font color=goldenrod>**_Code for you to write_**</font>"
   ]
  },
  {
   "cell_type": "code",
   "execution_count": null,
   "metadata": {},
   "outputs": [],
   "source": []
  },
  {
   "cell_type": "markdown",
   "metadata": {},
   "source": [
    "What is the spreading rate velocity of the plate moving away from the Pacific Antarctic Ridge?"
   ]
  },
  {
   "cell_type": "markdown",
   "metadata": {},
   "source": [
    "__Write your answer here.__"
   ]
  },
  {
   "cell_type": "markdown",
   "metadata": {},
   "source": [
    "Is the slope for the Antarctic plate steeper or shallower than the Eastern Atlantic (make a figure with both datasets if it helps)? Which ridge is spreading faster?\n"
   ]
  },
  {
   "cell_type": "code",
   "execution_count": null,
   "metadata": {},
   "outputs": [],
   "source": []
  },
  {
   "cell_type": "markdown",
   "metadata": {},
   "source": [
    "__Write your answer here.__"
   ]
  },
  {
   "cell_type": "markdown",
   "metadata": {},
   "source": [
    "How do these estimates of the spreading rates compare with the values we found during class considering just one reversal? Which do you think is more accurate?"
   ]
  },
  {
   "cell_type": "markdown",
   "metadata": {},
   "source": [
    "__Write your answer here.__"
   ]
  },
  {
   "cell_type": "markdown",
   "metadata": {},
   "source": [
    "These spreading rates that you have computed are what we call the _half spreading rate_: the speed one plate is spreading relative to the ridge. The _full spreading rate_ is the speed the two oceanic plates travel relative to each other and is roughly twice the half spreading rate."
   ]
  },
  {
   "cell_type": "markdown",
   "metadata": {},
   "source": [
    "## Turn in this notebook\n",
    "\n",
    "Save your completed notebook. Click on __File, Print, Save as PDF__ to save the notebook as a LaTex PDF. Upload it to the [bCourses assignment page](https://bcourses.berkeley.edu/courses/1498475/assignments/8168163)."
   ]
  }
 ],
 "metadata": {
  "kernelspec": {
   "display_name": "Python 3",
   "language": "python",
   "name": "python3"
  },
  "language_info": {
   "codemirror_mode": {
    "name": "ipython",
    "version": 3
   },
   "file_extension": ".py",
   "mimetype": "text/x-python",
   "name": "python",
   "nbconvert_exporter": "python",
   "pygments_lexer": "ipython3",
   "version": "3.7.7"
  }
 },
 "nbformat": 4,
 "nbformat_minor": 4
}
