{
 "cells": [
  {
   "cell_type": "markdown",
   "metadata": {},
   "source": [
    "## Clustering Fold Planes\n",
    "\n",
    "- Find out about Machine Learning\n",
    "- Learn about using the **scikit-learn** python package for clustering analysis\n",
    "- Apply clustering analysis to an earth science example (clustering fold directions)\n",
    "\n",
    "This notebook is modified from Lecture 24 from Lisa Tauxe's course [Python for Earth Science Students](https://nbviewer.jupyter.org/github/ltauxe/Python-for-Earth-Science-Students/tree/master/).\n",
    "\n",
    "### Import the scientific python packages we will need"
   ]
  },
  {
   "cell_type": "code",
   "execution_count": null,
   "metadata": {
    "ExecuteTime": {
     "end_time": "2020-03-23T02:46:22.625477Z",
     "start_time": "2020-03-23T02:46:20.899614Z"
    }
   },
   "outputs": [],
   "source": [
    "!pip install mplstereonet\n",
    "import mplstereonet\n",
    "import numpy as np\n",
    "import pandas as pd\n",
    "import matplotlib.pyplot as plt\n",
    "from IPython.display import Image\n",
    "%matplotlib inline"
   ]
  },
  {
   "cell_type": "markdown",
   "metadata": {},
   "source": [
    "### The Orocopio Mountains Dataset\n",
    "The dataset poles_data contains a dataset of poles to bedding planes from the Orocopio mountains on southern California. If a rock is composed of sediments that are layed down flat on top of one another, then we would expect the pole to the plane to be vertical (because the plane itself is horizontal). If instead the plane is tilted, we might expect the pole to the plane to be in some other direction. We'll look at a data set of poles from bedding planes measured in the  Orocopio Mountains."
   ]
  },
  {
   "cell_type": "code",
   "execution_count": null,
   "metadata": {
    "ExecuteTime": {
     "end_time": "2020-03-19T23:34:41.422081Z",
     "start_time": "2020-03-19T23:34:41.188737Z"
    }
   },
   "outputs": [],
   "source": [
    "poles_data=pd.read_csv('data/Orocopio_Poles_Data.csv')\n",
    "poles_data.head()"
   ]
  },
  {
   "cell_type": "markdown",
   "metadata": {},
   "source": [
    "Now we'll add new columns to our dataframe with the strike and dip of the bedding planes."
   ]
  },
  {
   "cell_type": "code",
   "execution_count": null,
   "metadata": {},
   "outputs": [],
   "source": [
    "poles_data['strike']=\n",
    "poles_data['dip']=\n",
    "poles_data.head()"
   ]
  },
  {
   "cell_type": "markdown",
   "metadata": {},
   "source": [
    "We'll us the package `mplstereonet` to plot the planes and poles on a stereonet. First we set `projection='stereonet'` and then we can use `ax.plane` and `ax.pole` to plot."
   ]
  },
  {
   "cell_type": "code",
   "execution_count": null,
   "metadata": {},
   "outputs": [],
   "source": [
    "fig = plt.figure()\n",
    "ax = fig.add_subplot(111, projection='stereonet')\n",
    "ax.plane(poles_data.iloc[0]['strike'], poles_data.iloc[0]['dip'], 'g-', linewidth=1, label='plane')\n",
    "ax.pole(poles_data.iloc[0]['strike'], poles_data.iloc[0]['dip'], 'go', markeredgecolor='k', markersize=8, label='pole')\n",
    "ax.grid()\n",
    "plt.legend()\n",
    "plt.show()"
   ]
  },
  {
   "cell_type": "code",
   "execution_count": null,
   "metadata": {},
   "outputs": [],
   "source": [
    "fig = plt.figure()\n",
    "ax = fig.add_subplot(121, projection='stereonet')\n",
    "ax.plane(poles_data['strike'], poles_data['dip'], 'g-', linewidth=1)\n",
    "ax.set_title('Planes')\n",
    "ax.grid()\n",
    "ax = fig.add_subplot(122, projection='stereonet')\n",
    "ax.pole(poles_data['strike'], poles_data['dip'], 'co', markeredgecolor='k', markersize=5)\n",
    "ax.set_title('Poles')\n",
    "ax.grid()\n",
    "plt.show()"
   ]
  },
  {
   "cell_type": "markdown",
   "metadata": {},
   "source": [
    "This is interesting! It seems that there are two 'clusters' with of bedding planes in different directions in this dataset, one to the north-east and one to the south-west. We want a way of separating these two clusters, but first let's think about what causes this. Is there some spatial relationship between where the different directions are found?\n",
    "\n",
    "#### Quiver Plots and **plt.imshow( )**\n",
    "\n",
    "To illustrate this we can use a 'quiver plot'.  It draws an arrow with the direction of the plane on a plot. To do this, we need to convert the data from azimuth and plunge to x, y and z. We'll write a have the handy function **dir2cart()** to convert to cartesian coordinates.  "
   ]
  },
  {
   "cell_type": "code",
   "execution_count": null,
   "metadata": {
    "ExecuteTime": {
     "end_time": "2020-03-19T23:39:56.429687Z",
     "start_time": "2020-03-19T23:39:56.420534Z"
    }
   },
   "outputs": [],
   "source": [
    "def dir2cart(Az,Pl):\n",
    "    \"\"\"\n",
    "    converts polar directions to cartesian coordinates\n",
    "    Inputs: \n",
    "        Dir[Azimuth,Plunge]:  directions in degreess\n",
    "    Output:\n",
    "        [X,Y,Z]: cartesian coordinates\n",
    "    \"\"\"\n",
    "    Az=np.radians(Az)\n",
    "    Pl=np.radians(Pl)\n",
    "    return [np.cos(Az)*np.cos(Pl),np.sin(Az)*np.cos(Pl),np.sin(Pl)]"
   ]
  },
  {
   "cell_type": "markdown",
   "metadata": {},
   "source": [
    "<font color=goldenrod>**_Code for you to write_**</font>\n",
    "\n",
    "Call the function `dir2cart` to convert `Pol_Az` and `Pole_Plunge` into `u,v,w` cartesian coordinates."
   ]
  },
  {
   "cell_type": "code",
   "execution_count": null,
   "metadata": {
    "ExecuteTime": {
     "end_time": "2020-03-20T00:00:56.541230Z",
     "start_time": "2020-03-20T00:00:56.525683Z"
    }
   },
   "outputs": [],
   "source": []
  },
  {
   "cell_type": "markdown",
   "metadata": {},
   "source": [
    "In our coordinate system, $w$ is straight up, so planes with a steeper direction will have a smaller $u$ and $v$ components and a larger $w$ component, and so the arrows on the quiver plot will appear shorter in length.  \n",
    "\n",
    "We will plot the quiver plot on top of a satellite image of the area, using the **plt.imread( )** and **plt.imshow( )** functions in **matplotlib**. These take an image and convert it into a coordinate system we can plot data onto."
   ]
  },
  {
   "cell_type": "code",
   "execution_count": null,
   "metadata": {
    "ExecuteTime": {
     "end_time": "2020-03-20T00:01:49.637698Z",
     "start_time": "2020-03-20T00:01:49.148536Z"
    }
   },
   "outputs": [],
   "source": [
    "img = plt.imread('data/GoogleEarthImage.png') #Reads in our image as a numpy array\n",
    "extent = [-115.7115, -115.6795, 33.5442, 33.5651] #Sets the corners of the image in lat/lon for plotting\n",
    "plt.figure(figsize=(9,13)) #Creates a new figure object to put the image on\n",
    "plt.imshow(img, origin='upper', extent=extent) #Plots the satellite image.;\n",
    "\n",
    "#Now let's plot the quivers onto the image \n",
    "#plt.quiver takes 4 arguments, x and y (locations of arrows), \n",
    "# and u and v (lengths of arrows in u and v directions).  \n",
    "# We can also set the color so we can see the vectors better\n",
    "\n",
    "plt.quiver(poles_data['Lon'],poles_data['Lat'],u,v,color='cyan');"
   ]
  },
  {
   "cell_type": "markdown",
   "metadata": {},
   "source": [
    "This plot tells us an interesting story. Along the center of the satellite image runs a linear feature. To the north of this feature, we see that the arrows are pointing to the north-east. To the south-west of this image, the arrows are pointing south-west. What could be the cause of this pattern?\n",
    "\n",
    "One probable cause would be a fold or anticline. For an illustration, see the image below. In an anticline, the horizontal layers are tilted away from the axis of the fold, so that the poles to the plane (arrows) are pointing away from the fold axis (dotted line). "
   ]
  },
  {
   "cell_type": "code",
   "execution_count": null,
   "metadata": {
    "ExecuteTime": {
     "end_time": "2020-03-20T00:35:50.824827Z",
     "start_time": "2020-03-20T00:35:50.801035Z"
    }
   },
   "outputs": [],
   "source": [
    "Image('images/Fold_Diagram.png',width=300)"
   ]
  },
  {
   "cell_type": "markdown",
   "metadata": {
    "ExecuteTime": {
     "end_time": "2020-03-20T00:20:48.881913Z",
     "start_time": "2020-03-20T00:20:48.863791Z"
    }
   },
   "source": [
    "#### Clustering our data\n",
    "Instead of \"eyeballing\" as we did at first, what if we wanted to automatically sort the two different directions into two different groups? How would we most easily do that? We don't really want to have to _train_ this dataset as we don't really care which group is which in this case, we just want some way of splitting the data into sensible groups. As such we might want to use some kind of _unsupervised_ machine learning process.\n",
    "\n",
    "The **scikit-learn** package has a module called **sklearn.cluster** that allows us to solve this problem. There are many algorithms for different 'shapes' of clusters. Let's try converting our data into a format **scikit-learn** understands, then use the **Kmeans** clustering algorithm on them.\n",
    "\n",
    "**scikit-learn** requires our data to be in a format in which  each datapoint has a set of _features_ which are a bit like coordinates."
   ]
  },
  {
   "cell_type": "code",
   "execution_count": null,
   "metadata": {},
   "outputs": [],
   "source": [
    "from sklearn.cluster import KMeans"
   ]
  },
  {
   "cell_type": "code",
   "execution_count": null,
   "metadata": {
    "ExecuteTime": {
     "end_time": "2020-03-20T02:27:12.582210Z",
     "start_time": "2020-03-20T02:27:12.573827Z"
    }
   },
   "outputs": [],
   "source": [
    "input_data=np.array([poles_data['Pole_Az'],poles_data['Pole_Plunge']]).T\n",
    "print(input_data[0:5])"
   ]
  },
  {
   "cell_type": "markdown",
   "metadata": {},
   "source": [
    "Note with **Kmeans**; you are not required  to choose the number of clusters.  However letting it work on its own generally doesn't work too well as it will try to find clusters with very similar sizes. If we try it with this example, we get a lot of clusters which don't really tell us much. Now let's do the clustering:"
   ]
  },
  {
   "cell_type": "code",
   "execution_count": null,
   "metadata": {},
   "outputs": [],
   "source": [
    "kmeans = KMeans() #unspecified number of clusters\n",
    "fit=kmeans.fit(input_data) #Fits the kmeans algorithm to our input data\n",
    "clusternumbers=kmeans.predict(input_data) #Gives the cluster numbers for each of our clusters"
   ]
  },
  {
   "cell_type": "code",
   "execution_count": null,
   "metadata": {
    "ExecuteTime": {
     "end_time": "2020-03-20T02:46:11.089635Z",
     "start_time": "2020-03-20T02:46:10.667306Z"
    }
   },
   "outputs": [],
   "source": [
    "#Plots the equal area with colors for clusters\n",
    "fig = plt.figure()\n",
    "ax = fig.add_subplot(111, projection='stereonet')\n",
    "for clust in np.arange(0,np.max(clusternumbers)):\n",
    "    ax.pole(poles_data[clusternumbers==clust]['strike'], \n",
    "            poles_data[clusternumbers==clust]['dip'], 'o', \n",
    "            markeredgecolor='k', markersize=8)\n",
    "ax.grid()\n",
    "plt.show()"
   ]
  },
  {
   "cell_type": "code",
   "execution_count": null,
   "metadata": {
    "ExecuteTime": {
     "end_time": "2020-03-20T02:46:25.019225Z",
     "start_time": "2020-03-20T02:46:24.439830Z"
    },
    "scrolled": true
   },
   "outputs": [],
   "source": [
    "extent = [-115.7115, -115.6795, 33.5442, 33.5651]\n",
    "img = plt.imread('data/GoogleEarthImage.png')\n",
    "plt.figure(figsize=(9,13))\n",
    "plt.imshow(img, origin='upper', extent=extent)\n",
    "plt.quiver(poles_data['Lon'],poles_data['Lat'],u,v,clusternumbers,cmap='tab10');\n",
    "plt.axis('Off'); #Turn off the plotting axes with tick marks, etc."
   ]
  },
  {
   "cell_type": "markdown",
   "metadata": {},
   "source": [
    "Lesson learned:  unsupervised does not mean just letting **scikit-learn** loose with no guidance!  Look at the data and provide some intellegient boundaries.  "
   ]
  },
  {
   "cell_type": "markdown",
   "metadata": {},
   "source": [
    "<font color=goldenrod>**_Code for you to write_**</font>\n",
    "\n",
    "Repeat the cluster analysis but use the arguement `n_clusters=2` to `KMeans()` when setting up the cluster algorithm to tell it there are two clusters. Then plot a stereonet of the poles colorcoded by `clusternumber`."
   ]
  },
  {
   "cell_type": "code",
   "execution_count": null,
   "metadata": {},
   "outputs": [],
   "source": []
  },
  {
   "cell_type": "code",
   "execution_count": null,
   "metadata": {
    "ExecuteTime": {
     "end_time": "2020-03-20T02:28:46.333649Z",
     "start_time": "2020-03-20T02:28:45.942363Z"
    }
   },
   "outputs": [],
   "source": []
  },
  {
   "cell_type": "markdown",
   "metadata": {
    "ExecuteTime": {
     "end_time": "2020-03-19T01:25:23.765809Z",
     "start_time": "2020-03-19T01:25:23.538854Z"
    }
   },
   "source": [
    "Hmm, it seems like this didn't work exactly as expected. Notice how there seems to be a change in cluster across the 0 degree Azimuth line? Let's plot Azimuth against plunge on an x,y plot to see why this didn't seem to work very well. "
   ]
  },
  {
   "cell_type": "code",
   "execution_count": null,
   "metadata": {
    "ExecuteTime": {
     "end_time": "2020-03-20T02:31:16.608263Z",
     "start_time": "2020-03-20T02:31:16.249422Z"
    }
   },
   "outputs": [],
   "source": [
    "fig = plt.figure()\n",
    "plt.plot(poles_data[clusternumbers==0]['Pole_Az'], poles_data[clusternumbers==0]['Pole_Plunge'],\n",
    "         'o',c='darkblue', markeredgecolor='k', markersize=8)\n",
    "plt.plot(poles_data[clusternumbers==1]['Pole_Az'], poles_data[clusternumbers==1]['Pole_Plunge'], \n",
    "         'o',c='darkred', markeredgecolor='k', markersize=8)\n",
    "plt.xlabel('Strike')\n",
    "plt.ylabel('Dip');"
   ]
  },
  {
   "cell_type": "markdown",
   "metadata": {},
   "source": [
    "The **Kmeans** algorithm treats data as if they were cartesian. But in geology, we often use directions that go from 0 to 360 which doesn't behave the same way as other cartesian data sets.  For example,an azimuth of 340 is closer to 200 than to 0 under this scheme. A simple solution to this would be to convert our azimuths and plunges to cartesian coordinates (as we did for the quiver plot) before clustering. Let's try again:"
   ]
  },
  {
   "cell_type": "code",
   "execution_count": null,
   "metadata": {
    "ExecuteTime": {
     "end_time": "2020-03-20T02:39:36.530322Z",
     "start_time": "2020-03-20T02:39:36.198624Z"
    }
   },
   "outputs": [],
   "source": [
    "kmeans = KMeans(n_clusters=2) #This tells us that we are using a clustering algorithm with 2 clusters\n",
    "input_data2=np.array([u,v,w]).transpose() # make and array with u,v,w as the first, second and third rows\n",
    "fit=kmeans.fit(input_data2) #Fits the kmeans algorithm to our input data\n",
    "clusternumbers=kmeans.predict(input_data) #Gives the cluster numbers for each of our clusters\n",
    "\n",
    "#Plots the equal area with colors for clusters\n",
    "fig = plt.figure()\n",
    "ax = fig.add_subplot(111, projection='stereonet')\n",
    "ax.pole(poles_data[clusternumbers==0]['strike'], poles_data[clusternumbers==0]['dip'], \n",
    "        'o',c='darkblue', markeredgecolor='k', markersize=8)\n",
    "ax.pole(poles_data[clusternumbers==1]['strike'], poles_data[clusternumbers==1]['dip'], \n",
    "        'o',c='darkred', markeredgecolor='k', markersize=8)\n",
    "ax.grid()\n",
    "plt.show()"
   ]
  },
  {
   "cell_type": "markdown",
   "metadata": {},
   "source": [
    "Much better! Let's see how it looks on the satellite image!"
   ]
  },
  {
   "cell_type": "code",
   "execution_count": null,
   "metadata": {
    "ExecuteTime": {
     "end_time": "2020-03-20T02:39:40.376478Z",
     "start_time": "2020-03-20T02:39:39.758176Z"
    }
   },
   "outputs": [],
   "source": [
    "extent = [-115.7115, -115.6795, 33.5442, 33.5651]\n",
    "img = plt.imread('data/GoogleEarthImage.png')\n",
    "plt.figure(figsize=(9,13))\n",
    "plt.imshow(img, origin='upper', extent=extent)\n",
    "plt.quiver(poles_data['Lon'],poles_data['Lat'],u,v,clusternumbers,cmap='RdBu'); #5th argument controls arrow color\n",
    "plt.axis('Off'); #Turn off the plotting axes with tick marks, etc."
   ]
  },
  {
   "cell_type": "markdown",
   "metadata": {},
   "source": [
    "It seems that there's something a bit more complicated going on here than just a single fold axis going down the middle, but we can see the broad trend and could probably even draw the axis in a lot of places now.\n"
   ]
  },
  {
   "cell_type": "markdown",
   "metadata": {},
   "source": [
    "We can also determine the fold axis quantitatively by finding where the fold planes intersect."
   ]
  },
  {
   "cell_type": "markdown",
   "metadata": {},
   "source": [
    "<font color=goldenrod>**_Code for you to write_**</font>\n",
    "\n",
    "Plot a stereonet of the two clusters of fold-limb planes as planes rather than poles. Make an eye-ball prediction for where the planes (on-average) intersect."
   ]
  },
  {
   "cell_type": "code",
   "execution_count": null,
   "metadata": {},
   "outputs": [],
   "source": []
  },
  {
   "cell_type": "markdown",
   "metadata": {},
   "source": [
    "To do this not by-eye We'll us the package `mplstereonet` function `fit_girdle`. Which takes strike and dip measurements as input and outputs the best-fitting intersection point."
   ]
  },
  {
   "cell_type": "code",
   "execution_count": null,
   "metadata": {},
   "outputs": [],
   "source": [
    "fold_axis_strike, fold_axis_dip = mplstereonet.fit_girdle(poles_data['strike'], poles_data['dip'])\n",
    "\n",
    "#plot\n",
    "fig = plt.figure()\n",
    "ax = fig.add_subplot(111, projection='stereonet')\n",
    "ax.pole(fold_axis_strike, fold_axis_dip, '^',c='k', label='Beta axis (Intersection of Planes)', markersize=10)\n",
    "ax.set_title('Fold axis')\n",
    "ax.grid()\n",
    "plt.show()"
   ]
  },
  {
   "cell_type": "markdown",
   "metadata": {},
   "source": [
    "To help visualize what this mean let's find the best-fit planes for the two clusters, using `fit_pole`."
   ]
  },
  {
   "cell_type": "code",
   "execution_count": null,
   "metadata": {},
   "outputs": [],
   "source": [
    "limb1_strike, limb1_dip=mplstereonet.fit_pole(poles_data[clusternumbers==0]['strike'], poles_data[clusternumbers==0]['dip'],measurement='poles')\n",
    "limb2_strike, limb2_dip=mplstereonet.fit_pole(poles_data[clusternumbers==1]['strike'], poles_data[clusternumbers==1]['dip'],measurement='poles')\n",
    "\n",
    "#plot\n",
    "fig = plt.figure()\n",
    "ax = fig.add_subplot(111, projection='stereonet')\n",
    "ax.plane(limb1_strike, limb1_dip,c='darkblue',label='Fold limb 1')\n",
    "ax.plane(limb2_strike, limb2_dip,c='darkred',label='Fold limb 2')\n",
    "ax.pole(fold_axis_strike, fold_axis_dip, '^',c='k', markersize=15,label='Fold axis')\n",
    "ax.grid()\n",
    "plt.legend()\n",
    "plt.show()"
   ]
  },
  {
   "cell_type": "markdown",
   "metadata": {},
   "source": [
    "So our initial interpretation that there are two 'clusters' of bedding planes in different directions in this dataset, one to the north-east and one to the south-west was correct. But we are able be more quantitative than that by using cluster analysis to determine which poles group together and regression to find the best-fitting fold limb planes."
   ]
  },
  {
   "cell_type": "markdown",
   "metadata": {},
   "source": [
    "### Turn in the Notebook\n",
    "\n",
    "**Export as HTML and upload to bCourses.**"
   ]
  },
  {
   "cell_type": "code",
   "execution_count": null,
   "metadata": {},
   "outputs": [],
   "source": []
  }
 ],
 "metadata": {
  "kernelspec": {
   "display_name": "Python 3",
   "language": "python",
   "name": "python3"
  },
  "language_info": {
   "codemirror_mode": {
    "name": "ipython",
    "version": 3
   },
   "file_extension": ".py",
   "mimetype": "text/x-python",
   "name": "python",
   "nbconvert_exporter": "python",
   "pygments_lexer": "ipython3",
   "version": "3.7.7"
  }
 },
 "nbformat": 4,
 "nbformat_minor": 4
}
