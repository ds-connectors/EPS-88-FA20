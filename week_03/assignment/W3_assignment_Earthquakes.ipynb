{
 "cells": [
  {
   "cell_type": "markdown",
   "metadata": {},
   "source": [
    "# Earthquake Deformation and Locating\n",
    "\n",
    "**This assignment has two main parts:**\n",
    "\n",
    "1) Revisit the global earthquake catalog, make a map that shows magnitude and make interpretations about where the largest earthquakes happen. [10 points]\n",
    "\n",
    "2) Plot the seismograph associated with the largest earthquake of 2020 and make interpretations related to seismic wave travel time. [15 points]"
   ]
  },
  {
   "cell_type": "markdown",
   "metadata": {},
   "source": [
    "**To do these things, you will need to be using the python libraries we have used thus far:**"
   ]
  },
  {
   "cell_type": "code",
   "execution_count": null,
   "metadata": {},
   "outputs": [],
   "source": [
    "import numpy as np\n",
    "import pandas as pd\n",
    "\n",
    "import matplotlib.pyplot as plt\n",
    "import matplotlib.patches as mpatches\n",
    "import matplotlib.dates as mdates\n",
    "import cartopy.crs as ccrs\n",
    "from cartopy.io.shapereader import Reader\n",
    "\n",
    "from client.api.notebook import Notebook\n",
    "ok = Notebook('hw03.ok')\n",
    "_ = ok.auth(inline=True,force=True)"
   ]
  },
  {
   "cell_type": "markdown",
   "metadata": {},
   "source": [
    "## The global earthquake catalog\n",
    "Revisit the global earthquake catalog from the in-class notebook with large earthquakes from the past decade. Please use Sept. 15, 2010-Sept. 15, 2020 (Or the autograding feature will fail your question 2 answer). Start by importing the data. Please, name your dataframe `EQ_data` we as did in-class."
   ]
  },
  {
   "cell_type": "code",
   "execution_count": null,
   "metadata": {},
   "outputs": [],
   "source": []
  },
  {
   "cell_type": "code",
   "execution_count": null,
   "metadata": {},
   "outputs": [],
   "source": [
    "_ = ok.grade('q1_1') "
   ]
  },
  {
   "cell_type": "markdown",
   "metadata": {},
   "source": [
    "### Make a map of these earthquake locations\n",
    "\n",
    "Make a map where you plot these earthquake locations. In addition to plotting the earthquake locations, we can plot the location of plate boundaries. I took the plate boundaries provided by the US Geological Survey (USGS) and split them by their categorization into trenches (subduction zones), ridges (spreading centers) and transform (strike-slip boundaries like the San Andreas fault). The raw data are here: https://www.sciencebase.gov/catalog/item/4f4e4a48e4b07f02db62303e\n",
    "the data that are split out are in the data folder of this week's folder.\n",
    "\n",
    "The code below makes a map where these different plate boundaries are represented by different color lines."
   ]
  },
  {
   "cell_type": "code",
   "execution_count": null,
   "metadata": {},
   "outputs": [],
   "source": [
    "plt.figure(1,(15,15)) # make a big figure \n",
    "\n",
    "ax = plt.axes(projection=ccrs.Robinson(180))\n",
    "ax.set_global()\n",
    "\n",
    "ax.coastlines()\n",
    "ax.gridlines()\n",
    "\n",
    "data = Reader('../data/Plate_Boundaries_transform.shp')\n",
    "ax.add_geometries(data.geometries(), crs=ccrs.PlateCarree(), \n",
    "                  edgecolor='orange', facecolor='none',\n",
    "                  linewidth=3, label='transform boundary')\n",
    "\n",
    "data = Reader('../data/Plate_Boundaries_trenches.shp')\n",
    "ax.add_geometries(data.geometries(), crs=ccrs.PlateCarree(), \n",
    "                  edgecolor='darkblue', facecolor='none',\n",
    "                  linewidth=3)\n",
    "\n",
    "data = Reader('../data/Plate_Boundaries_ridges.shp')\n",
    "ax.add_geometries(data.geometries(), crs=ccrs.PlateCarree(), \n",
    "                  edgecolor='red', facecolor='none',\n",
    "                  linewidth=3)\n",
    "\n",
    "plt.title('Map of plate boundaries (red=ridge; blue=trench; orange=transform)')\n",
    "# make patches to add to a legend\n",
    "trans = mpatches.Rectangle((0, 0), 1, 1, facecolor=\"orange\")\n",
    "con = mpatches.Rectangle((0, 0), 1, 1, facecolor=\"darkblue\")\n",
    "div = mpatches.Rectangle((0, 0), 1, 1, facecolor=\"red\")\n",
    "labels = ['Transform','Convergent','Divergent']\n",
    "plt.legend([trans, con, div], labels)\n",
    "\n",
    "plt.show()"
   ]
  },
  {
   "cell_type": "markdown",
   "metadata": {},
   "source": [
    "**Make a map where these plate boundaries are shown and the recent earthquake locations are also plotted.**"
   ]
  },
  {
   "cell_type": "code",
   "execution_count": null,
   "metadata": {},
   "outputs": [],
   "source": []
  },
  {
   "cell_type": "code",
   "execution_count": null,
   "metadata": {},
   "outputs": [],
   "source": []
  },
  {
   "cell_type": "markdown",
   "metadata": {},
   "source": [
    "**Make a map that categorizes earthquakes by magnitude.** \n",
    "\n",
    "Here is my suggestion for how this could be done:\n",
    "- Filter the global earthquake catalog dataframe to make a new dataframe that only has large earthquakes (magnitude 5 or greater), another that only has the larger earthquakes (magnitude 6 or greater) and another that only has the largest earthquakes (magnitude 7 or greater) and make a map where they are plotted along with all the other earthquakes, but in a separate colors/sizes. A dataframe can be filtered using syntax like this where `dataframe` is the name of the dataframe that has your data and `dataframe_new` being whatever name you want to assign to your new dataframe: \n",
    "\n",
    "`dataframe_new = dataframe[dataframe['column_a'] > 5]` e.g. `earthquakes_mag5 = EQ_data[EQ_data['mag'] > 5]`\n",
    "\n",
    "It can also be filtered by multiple conditions like this:\n",
    "\n",
    "`dataframe_new = dataframe[(dataframe['column_a'] > 5) & (dataframe['column_a'] < 6)]`"
   ]
  },
  {
   "cell_type": "code",
   "execution_count": null,
   "metadata": {},
   "outputs": [],
   "source": [
    "#Declare dataframes filtered by magnitude\n",
    "earthquakes_mag5 = \n",
    "earthquakes_mag6 = \n",
    "earthquakes_mag7 =\n",
    "earthquakes_mag8 = \n",
    "earthquakes_mag9 = "
   ]
  },
  {
   "cell_type": "code",
   "execution_count": null,
   "metadata": {},
   "outputs": [],
   "source": [
    "_ = ok.grade('q1_2') "
   ]
  },
  {
   "cell_type": "markdown",
   "metadata": {},
   "source": [
    "Make a map where earthquakes of greater magnitude are plotted with larger symbols. In `plt.scatter` the `s=` parameter can be used to set symbol size. I would recommend making each symbol be twice as large as the previous on (e.g. `s=8` for `earthquakes_mag5` and `s=16` for `earthquakes_mag6`). You should label each."
   ]
  },
  {
   "cell_type": "code",
   "execution_count": null,
   "metadata": {},
   "outputs": [],
   "source": [
    "plt.figure(1,(10,10)) # make a big figure \n",
    "ax = plt.axes(projection=ccrs.Robinson())\n",
    "ax.set_global()\n",
    "\n",
    "plt.scatter(earthquakes_mag5['longitude'],earthquakes_mag5['latitude'],\n",
    "            transform=ccrs.PlateCarree(),s=4,label='Magnitude 5')\n",
    "# Add plt.scatter() for the rest of the magnitude dataframes. \n",
    "# Make sure to label them so that they show up in the legend\n",
    "\n",
    "plt.legend()        \n",
    "plt.show()"
   ]
  },
  {
   "cell_type": "markdown",
   "metadata": {},
   "source": [
    "After you have made such a map, answer these questions:\n",
    "- *At what type of plate boundaries do the largest earthquakes occur?*\n",
    "- *At what depths do the largest earthquakes occur? Additional code that makes additional plots to answer this question. A depth vs magnitude plot would be helpful for example. And consider this video about brittle vs. ductile deformation from the reading*\n",
    "\n",
    "[![](http://img.youtube.com/vi/fb9ytgi3br4/0.jpg)](http://www.youtube.com/watch?v=fb9ytgi3br4 \"\")\n",
    "\n",
    "**Write your answers here**"
   ]
  },
  {
   "cell_type": "code",
   "execution_count": null,
   "metadata": {},
   "outputs": [],
   "source": []
  },
  {
   "cell_type": "code",
   "execution_count": null,
   "metadata": {},
   "outputs": [],
   "source": []
  },
  {
   "cell_type": "markdown",
   "metadata": {},
   "source": [
    "## Largest Earthquake in 2020 (so far)\n",
    "\n",
    "The largest earthquake of 2020 so far occured 100km SSE of Perryville, Alaska at 55.0683°S 158.5543°W and was a magnitude 7.8 event.\n",
    "\n",
    "Below is a map of the earthquake location and the location of the Columbia College, Columbia, CA, USA seismic station that recorded a seismograph we will be analyzing.\n",
    "\n",
    "Go ahead and **add plate boundaries to this map as well.**"
   ]
  },
  {
   "cell_type": "code",
   "execution_count": null,
   "metadata": {},
   "outputs": [],
   "source": [
    "# Earthquake location\n",
    "Earthquake_lat = \n",
    "Earthquake_lon = \n",
    "\n",
    "# Station Location Columbia College, Columbia, CA, USA\n",
    "station_lat = 38.03455\n",
    "station_lon = -120.38651\n",
    "\n",
    "plt.figure(1,(10,10))\n",
    "\n",
    "ax = plt.axes(projection=ccrs.Orthographic(central_longitude=-130,central_latitude=60))\n",
    "ax.set_global()\n",
    "\n",
    "plt.scatter(Earthquake_lon,Earthquake_lat,s=100,marker='*',\n",
    "            color='red', edgecolor='black',transform=ccrs.PlateCarree())\n",
    "plt.text(Earthquake_lon+5,Earthquake_lat,'Earthquake',fontsize=14,color='red',\n",
    "         transform=ccrs.PlateCarree())\n",
    "\n",
    "plt.scatter(station_lon,station_lat,s=100,marker='^',\n",
    "            color='green', edgecolor='black',transform=ccrs.PlateCarree())\n",
    "plt.text(station_lon+5,station_lat,'Columbia College',fontsize=12,color='green',\n",
    "         transform=ccrs.PlateCarree())\n",
    "\n",
    "plt.plot([Earthquake_lon,station_lon],[Earthquake_lat,station_lat],\n",
    "         color='red',transform=ccrs.Geodetic())\n",
    "\n",
    "ax.coastlines()\n",
    "ax.stock_img()\n",
    "ax.gridlines()\n",
    "\n",
    "plt.show()"
   ]
  },
  {
   "cell_type": "markdown",
   "metadata": {},
   "source": [
    "*At what type of plate boundary did this earthquake occur?*\n",
    "\n",
    "**Write your answer here**"
   ]
  },
  {
   "cell_type": "code",
   "execution_count": null,
   "metadata": {},
   "outputs": [],
   "source": []
  },
  {
   "cell_type": "markdown",
   "metadata": {},
   "source": [
    "More geologic context about this quake can be found here: https://www.iris.edu/hq/files/programs/education_and_outreach/retm/tm_200722_alaska/200722_Alaska.pdf"
   ]
  },
  {
   "cell_type": "markdown",
   "metadata": {},
   "source": [
    "### Load a Seismogram of this Earthquake"
   ]
  },
  {
   "cell_type": "markdown",
   "metadata": {},
   "source": [
    "Let's load the .csv (Comma Separated Variable) data file of the seismogram of the largest earthquake that occured in the past month, recorded at the Columbia College, Columbia, CA, USA seismic station. Samples were taken every 0.025 seconds (40 Hz) and the record starts 60 seconds before the P wave arrival. https://www.iris.edu/app/station_monitor/#2020-07-22T06:12:44/BK-CMB/trace/BK-CMB|11273635"
   ]
  },
  {
   "cell_type": "code",
   "execution_count": null,
   "metadata": {},
   "outputs": [],
   "source": [
    "seismogram = pd.read_csv('../data/BK.CMB.00.BHZ.Q.2020-07-22T061756.019538.csv',header=9,names=['Time','Sample'])\n",
    "seismogram.head()"
   ]
  },
  {
   "cell_type": "markdown",
   "metadata": {},
   "source": [
    "The `seismogram['Sample']` column is a time series of the velocity of the ground motion at the location of the seismic station due to this earthquake. Let's rename it velocity."
   ]
  },
  {
   "cell_type": "code",
   "execution_count": null,
   "metadata": {},
   "outputs": [],
   "source": [
    "velocity = "
   ]
  },
  {
   "cell_type": "markdown",
   "metadata": {},
   "source": [
    "Now let's parse the `seismogram['Time']` column from a string to a pandas datetime object. To do this we use the function `pd.to_datetime()`. We'll see more datetime features in the future, they're pretty great."
   ]
  },
  {
   "cell_type": "code",
   "execution_count": null,
   "metadata": {},
   "outputs": [],
   "source": [
    "time = pd.to_datetime(seismogram['Time'])"
   ]
  },
  {
   "cell_type": "markdown",
   "metadata": {},
   "source": [
    "Let's plot the seismogram (`time` on the x-axis and `velocity` on the y-axis), add labels and use `ax.annotate` to label the P and S waves' arrivals. "
   ]
  },
  {
   "cell_type": "code",
   "execution_count": null,
   "metadata": {},
   "outputs": [],
   "source": [
    "fig = plt.figure(1,(10,5))\n",
    "ax = fig.add_subplot()\n",
    "\n",
    "plt.plot(...,...)\n",
    "plt.xlabel('...', fontsize=14)\n",
    "plt.ylabel('...', fontsize=14)\n",
    "plt.title('Seismogram of Alaskan earthquake recorded at Columbia College', fontsize=14)\n",
    "\n",
    "ax.annotate('P wave', (mdates.date2num(time[60*40]), velocity[60*40]), xytext=(-10, 35), \n",
    "            textcoords='offset points', arrowprops=dict(arrowstyle='-|>'))\n",
    "ax.annotate('S wave', (mdates.date2num(time[6*60*40]), velocity[6*60*40]), xytext=(-10, 35), \n",
    "            textcoords='offset points', arrowprops=dict(arrowstyle='-|>'))\n",
    "\n",
    "ax.grid(True)\n",
    "plt.show()"
   ]
  },
  {
   "cell_type": "markdown",
   "metadata": {},
   "source": [
    "Using the annotations, I have indicated when the P wave arrived (at 2020-07-22 06:18:56 UTC) and when the S wave arrived (5.0 minutes later at 2020-07-22 06:23:56 UTC). The P (primary) wave arrives before the S (secondary/shear) wave. The farther away an earthquake is from a receiver, the more time there is between the arrivals of the P and S waves. More seismograms for this quake can be viewed here: https://ds.iris.edu/gsv/tsplotForID.phtml?evid=11273635&useCache=1&epo=0&caller=map\n",
    "\n",
    "<img src=\"../figures/seis_wave_travel_time.png\">\n",
    "\n",
    "\n",
    "The difference in these arrival times can be used to determine the distance from the recording station to the earthquake using a travel time curve if we know the velocities of the waves through the Earth.  So first we need to know how these two waves behave — particularly their velocities. Check out this short video demonstration (click on the video the right once you click through the link). \n",
    "\n",
    "https://www.iris.edu/hq/inclass/animation/traveltime_curves_how_they_are_created\n",
    "\n",
    "I found calculated P and S wave travel times for an earthquake at 33 km depth here (https://earthquake.usgs.gov/learn/topics/ttgraph.php) which is based on this study:\n",
    "\n",
    "*Kennett, B. L. N. and E. R. Engdahl (1991). Travel times for global earthquake location and phase identification, Geophys. J. Int., v 105, p 429-465.*\n",
    "\n",
    "The data are within the data folder as `arrival_times.csv`. Let's import them as a dataframe."
   ]
  },
  {
   "cell_type": "code",
   "execution_count": null,
   "metadata": {},
   "outputs": [],
   "source": [
    "travel_times = pd.read_csv('../data/arrival_times.csv')\n",
    "travel_times.head()"
   ]
  },
  {
   "cell_type": "markdown",
   "metadata": {},
   "source": [
    "We can make a plot of the travel times."
   ]
  },
  {
   "cell_type": "code",
   "execution_count": null,
   "metadata": {},
   "outputs": [],
   "source": [
    "plt.plot(travel_times['degrees_from_quake'],travel_times['P_wave_time'],label='P waves')\n",
    "plt.plot(travel_times['degrees_from_quake'],travel_times['S_wave_time'],label='S waves')\n",
    "plt.xlabel('Distance (degrees)')\n",
    "plt.ylabel('Time (minutes)')\n",
    "plt.legend()\n",
    "plt.show()"
   ]
  },
  {
   "cell_type": "markdown",
   "metadata": {},
   "source": [
    "From the interpretation of the seismograph, we know that at Columbia College, the S wave arrived 5.0 minutes after the P wave. We want to use this travel time curve to estimate the distance. To start with, make a new column in the travel_times dataframe that is the difference between the two times. In pandas you can make a new column that is a calculation of other columns. So if you had a column called 'column_b' and one called 'column_a' you could make a new column like this:\n",
    "\n",
    "```travel_times['new_column'] = travel_times['column_b'] - travel_times['column_a']```\n",
    "\n",
    "Go ahead and make a new column called 'S-P_difference' that is the difference between the S wave time and the P wave time. Then make a plot of it vs. distance from earthquake."
   ]
  },
  {
   "cell_type": "code",
   "execution_count": null,
   "metadata": {},
   "outputs": [],
   "source": []
  },
  {
   "cell_type": "code",
   "execution_count": null,
   "metadata": {},
   "outputs": [],
   "source": []
  },
  {
   "cell_type": "code",
   "execution_count": null,
   "metadata": {},
   "outputs": [],
   "source": []
  },
  {
   "cell_type": "markdown",
   "metadata": {},
   "source": [
    "Once you have plotted this travel time difference curve, use it (and/or) the S-P_difference to estimate the distance in degrees. Then convert this angular distance between the earthquake and the seismic station with the equation $d = r \\theta $ where $d$ is the distance between the two points, $r$ is the radius (radius of Earth is 6371 kilometers), and $\\theta$ is the angular separation between the points in radians. "
   ]
  },
  {
   "cell_type": "code",
   "execution_count": null,
   "metadata": {},
   "outputs": [],
   "source": [
    "radius = ...; # earth's radius in kilometers\n",
    "ang_deg = ...; # angular separation between EQ and station in degrees\n",
    "ang_rad = ang_deg * np.pi/180; # convert degrees to radians\n",
    "dist = radius * ang_rad; # distance in kilometers\n",
    "print(dist) \n",
    "print('distance to station from earthquake epicenter (km)')"
   ]
  },
  {
   "cell_type": "code",
   "execution_count": null,
   "metadata": {},
   "outputs": [],
   "source": [
    "_ = ok.grade('q1_3') "
   ]
  },
  {
   "cell_type": "markdown",
   "metadata": {},
   "source": [
    "By computing the distance from the earthquake to at least three stations you can locate the epicenter of the earthquake. \n",
    "\n",
    "<img src=\"../figures/IRIS_eq_tri.png\">"
   ]
  },
  {
   "cell_type": "markdown",
   "metadata": {},
   "source": [
    "### Turn in this notebook\n",
    "\n",
    "Save your completed notebook then run:"
   ]
  },
  {
   "cell_type": "code",
   "execution_count": null,
   "metadata": {},
   "outputs": [],
   "source": [
    "_ = ok.submit()"
   ]
  }
 ],
 "metadata": {
  "kernelspec": {
   "display_name": "Python 3",
   "language": "python",
   "name": "python3"
  },
  "language_info": {
   "codemirror_mode": {
    "name": "ipython",
    "version": 3
   },
   "file_extension": ".py",
   "mimetype": "text/x-python",
   "name": "python",
   "nbconvert_exporter": "python",
   "pygments_lexer": "ipython3",
   "version": "3.7.7"
  }
 },
 "nbformat": 4,
 "nbformat_minor": 4
}
