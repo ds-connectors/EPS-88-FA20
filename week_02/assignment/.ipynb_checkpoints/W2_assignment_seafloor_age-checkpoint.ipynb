{
 "cells": [
  {
   "cell_type": "markdown",
   "metadata": {},
   "source": [
    "# Week 1 Assignment: Age of the seafloor [25 points]\n",
    "\n",
    "**Our goals:**\n",
    "- Load and visualize global seafloor age.\n",
    "- Use global seafloor age distribution to make inferences about plate tectonic processes."
   ]
  },
  {
   "cell_type": "markdown",
   "metadata": {},
   "source": [
    "## Setup\n",
    "\n",
    "Run this cell to import the packages you will need."
   ]
  },
  {
   "cell_type": "code",
   "execution_count": null,
   "metadata": {},
   "outputs": [],
   "source": [
    "import numpy as np\n",
    "import matplotlib.pyplot as plt\n",
    "import pandas as pd\n",
    "from matplotlib import cm\n",
    "from cartopy import config\n",
    "import cartopy.crs as ccrs\n",
    "\n",
    "from client.api.notebook import Notebook\n",
    "ok = Notebook('hw02.ok')\n",
    "_ = ok.auth(inline=True,force=True)"
   ]
  },
  {
   "cell_type": "markdown",
   "metadata": {},
   "source": [
    "### Load Seafloor Age dataset\n",
    "\n",
    "We will load the data as a Pandas dataframe using the `pd.read_csv` function.\n",
    "\n",
    "- column 1 is longitude in degrees\n",
    "- column 2 is latitude in degrees\n",
    "- column 3 is seafloor age in million years"
   ]
  },
  {
   "cell_type": "code",
   "execution_count": null,
   "metadata": {},
   "outputs": [],
   "source": [
    "seafloor_age_data = pd.read_csv('data/age.csv')\n",
    "seafloor_age_data.head()"
   ]
  },
  {
   "cell_type": "code",
   "execution_count": null,
   "metadata": {},
   "outputs": [],
   "source": [
    "# check shape of seafloor_age_data to check it loaded properly, 2 points\n",
    "_ = ok.grade('q1_1') "
   ]
  },
  {
   "cell_type": "markdown",
   "metadata": {},
   "source": [
    "Pandas dataframes are super useful and we will use them a lot. Watch this video for an introduction to the pandas library."
   ]
  },
  {
   "cell_type": "code",
   "execution_count": null,
   "metadata": {},
   "outputs": [],
   "source": [
    "from IPython.display import YouTubeVideo\n",
    "# Wrangling Data with Pandas\n",
    "YouTubeVideo('XDAnFZqJDvI', width=\"1000\", height=\"500\")"
   ]
  },
  {
   "cell_type": "markdown",
   "metadata": {},
   "source": [
    "As Yufeng introduced, the .describe function provides summary statistics on a dataframe. Our dataframe is called `seafloor_age_data`. Just like we applied the function `.head()` to the dataframe after we imported it, the function `describe` can be applied to the dataframe to get this summary. Do this in the cell below."
   ]
  },
  {
   "cell_type": "code",
   "execution_count": null,
   "metadata": {},
   "outputs": [],
   "source": [
    "#Apply the describe function to the data here\n"
   ]
  },
  {
   "cell_type": "code",
   "execution_count": null,
   "metadata": {},
   "outputs": [],
   "source": [
    "# check maximum seafloor age, 2 points\n",
    "_ = ok.grade('q1_2') "
   ]
  },
  {
   "cell_type": "markdown",
   "metadata": {},
   "source": [
    "**How old is the oldest seafloor in comparison with the age of Earth and why is there such a large difference?** [5 points]"
   ]
  },
  {
   "cell_type": "markdown",
   "metadata": {},
   "source": [
    "_Write your answer here._"
   ]
  },
  {
   "cell_type": "markdown",
   "metadata": {},
   "source": [
    "### Plot a histogram of seafloor age [5 points]\n",
    "\n",
    "#### Access data in a single column\n",
    "\n",
    "As Yufeng described in the video, the values of a particular column within a dataframe can be accessed using bracket notation. So to just get the age values, we can use the notation `seafloor_age_data['age_Ma']` as in the cell below:"
   ]
  },
  {
   "cell_type": "code",
   "execution_count": null,
   "metadata": {},
   "outputs": [],
   "source": [
    "seafloor_age_data['age_Ma']"
   ]
  },
  {
   "cell_type": "markdown",
   "metadata": {},
   "source": [
    "We can use `seafloor_age_data['age_Ma']` as input to a plot such as a histogram. In class, we plotted a histogram of global elevation. Here I want you to plot a histogram of seafloor age. Label the axes of your plot and give it a title."
   ]
  },
  {
   "cell_type": "code",
   "execution_count": null,
   "metadata": {},
   "outputs": [],
   "source": [
    "#Make a histogram here"
   ]
  },
  {
   "cell_type": "markdown",
   "metadata": {},
   "source": [
    "### Seafloor Age Map [5 points for map; 5 points for question responses]"
   ]
  },
  {
   "cell_type": "markdown",
   "metadata": {},
   "source": [
    "To help make the map, let's make the columns of the Pandas dataframe be numpy arrays."
   ]
  },
  {
   "cell_type": "code",
   "execution_count": null,
   "metadata": {},
   "outputs": [],
   "source": [
    "age_longitude = np.asarray(seafloor_age_data['longitude'])\n",
    "age_latitude = np.asarray(seafloor_age_data['latitude'])\n",
    "age = np.asarray(seafloor_age_data['age_Ma'])"
   ]
  },
  {
   "cell_type": "markdown",
   "metadata": {},
   "source": [
    "As we did in-class, we need to reshape of arrays of data into grids in order to map. Reshape the data into (901,1801) sized grids.\n",
    "\n",
    "Replace the ...'s below to do so."
   ]
  },
  {
   "cell_type": "code",
   "execution_count": null,
   "metadata": {},
   "outputs": [],
   "source": [
    "age_grid = age.reshape(...)\n",
    "age_lon_grid = age_longitude.reshape(...)\n",
    "age_lat_grid = age_latitude.reshape(...)"
   ]
  },
  {
   "cell_type": "code",
   "execution_count": null,
   "metadata": {},
   "outputs": [],
   "source": [
    "age_grid.shape"
   ]
  },
  {
   "cell_type": "code",
   "execution_count": null,
   "metadata": {},
   "outputs": [],
   "source": [
    "# check grid shapes, 1 point\n",
    "_ = ok.grade('q1_3') "
   ]
  },
  {
   "cell_type": "markdown",
   "metadata": {},
   "source": [
    "Use the grids of latitude and longtitude you just made to plot a map of seafloor age.\n",
    "\n",
    "Replace the ... below in `plt.contourf` in order to make such a map."
   ]
  },
  {
   "cell_type": "code",
   "execution_count": null,
   "metadata": {},
   "outputs": [],
   "source": [
    "plt.figure(1,(15,15))\n",
    "ax = plt.axes(projection=ccrs.Robinson())\n",
    "ax.set_global()\n",
    "plt.contourf(...)\n",
    "\n",
    "ax.coastlines()\n",
    "ax.gridlines()\n",
    "\n",
    "color_ax = plt.axes([0.95, 0.3, 0.05, 0.35])\n",
    "plt.colorbar(cax=color_ax) \n",
    "plt.title('Age, Myr'); \n",
    "\n",
    "plt.show()"
   ]
  },
  {
   "cell_type": "markdown",
   "metadata": {},
   "source": [
    "If that code worked it would produce:\n",
    "![Mid-Ocean Ridge](./figures/seafloor_age_map.png)   "
   ]
  },
  {
   "cell_type": "markdown",
   "metadata": {},
   "source": [
    "What patterns do you observe? Where is the youngest seafloor in relation to the seafloor ridges we observed in our map of topography? Where is the oldest seafloor? \n",
    "\n",
    "_Write your answer here._\n",
    "\n",
    "Where did the older seafloor go?\n",
    "\n",
    "_Write your answer here._"
   ]
  },
  {
   "cell_type": "markdown",
   "metadata": {},
   "source": [
    "### Turn in this notebook\n",
    "\n",
    "Save your completed notebook then run:"
   ]
  },
  {
   "cell_type": "code",
   "execution_count": null,
   "metadata": {},
   "outputs": [],
   "source": [
    "_ = ok.submit()"
   ]
  }
 ],
 "metadata": {
  "kernelspec": {
   "display_name": "Python 3",
   "language": "python",
   "name": "python3"
  },
  "language_info": {
   "codemirror_mode": {
    "name": "ipython",
    "version": 3
   },
   "file_extension": ".py",
   "mimetype": "text/x-python",
   "name": "python",
   "nbconvert_exporter": "python",
   "pygments_lexer": "ipython3",
   "version": "3.7.7"
  }
 },
 "nbformat": 4,
 "nbformat_minor": 4
}
