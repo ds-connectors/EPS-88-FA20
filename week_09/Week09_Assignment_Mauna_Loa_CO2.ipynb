{
 "cells": [
  {
   "cell_type": "markdown",
   "metadata": {},
   "source": [
    "# Trends in atmospheric Carbon Dioxide Concentration (25 points)\n",
    "\n",
    "The carbon dioxide data measured on Mauna Loa in Hawaii constitute the longest record of direct measurements of CO$_2$ in the atmosphere. They were started by C. David Keeling of the Scripps Institution of Oceanography in March of 1958 at a facility of the National Oceanic and Atmospheric Administration [Keeling, 1976]. NOAA started its own CO$_2$ measurements in May of 1974, and they have run in parallel with those made by Scripps since then [Thoning, 1989]."
   ]
  },
  {
   "cell_type": "code",
   "execution_count": null,
   "metadata": {},
   "outputs": [],
   "source": [
    "import numpy as np\n",
    "import matplotlib\n",
    "import matplotlib.pyplot as plt\n",
    "import pandas as pd\n",
    "from scipy import stats"
   ]
  },
  {
   "cell_type": "code",
   "execution_count": null,
   "metadata": {},
   "outputs": [],
   "source": [
    "# Monthly Average Carbon Dioxide Concentration in parts per million (ppm) \n",
    "# measured at Mauna Loa Observatory, Hawaii\n",
    "# source: https://scripps.ucsd.edu/programs/keelingcurve/permissions-and-data-sources/\n",
    "data=pd.read_csv('Data/monthly_in_situ_co2_mlo.csv')\n",
    "data.tail()"
   ]
  },
  {
   "cell_type": "markdown",
   "metadata": {},
   "source": [
    "## Plot the data (3 points)\n",
    "\n",
    "**Plot the data, CO$_{2}$ concentration (`CO2_ppm`) as a function of `Date`. Don't forget to label the axes.**"
   ]
  },
  {
   "cell_type": "code",
   "execution_count": null,
   "metadata": {},
   "outputs": [],
   "source": []
  },
  {
   "cell_type": "markdown",
   "metadata": {},
   "source": [
    "## Fit a linear model to the data (6 points)\n",
    "\n",
    "- **Use `np.polyfit()` to determine the best-fit linear (i.e. degree 1) model to the CO$_{2}$ data**\n",
    "\n",
    "- **Use `np.polyval()` to find the model CO$_2$ concentration ($y$ values) for the dates ($x$ values).**\n",
    "\n",
    "- **Plot the data and the best-fit line.**\n",
    "\n",
    "- **Calculate and plot the residual.**"
   ]
  },
  {
   "cell_type": "code",
   "execution_count": null,
   "metadata": {},
   "outputs": [],
   "source": []
  },
  {
   "cell_type": "code",
   "execution_count": null,
   "metadata": {},
   "outputs": [],
   "source": []
  },
  {
   "cell_type": "code",
   "execution_count": null,
   "metadata": {},
   "outputs": [],
   "source": []
  },
  {
   "cell_type": "code",
   "execution_count": null,
   "metadata": {},
   "outputs": [],
   "source": []
  },
  {
   "cell_type": "markdown",
   "metadata": {},
   "source": [
    "## Fit a quadratic model to the data (6 points)\n",
    "\n",
    "- **Use `np.polyfit()` to determine the best-fit quadratic (i.e. degree 2) model to the CO$_{2}$ data**\n",
    "\n",
    "- **Use `np.polyval()` to find the model CO$_2$ concentration ($y$ values) for the dates ($x$ values).**\n",
    "\n",
    "- **Plot the data and the best-fit line.**\n",
    "\n",
    "- **Calculate and plot the residual.**"
   ]
  },
  {
   "cell_type": "code",
   "execution_count": null,
   "metadata": {},
   "outputs": [],
   "source": []
  },
  {
   "cell_type": "code",
   "execution_count": null,
   "metadata": {},
   "outputs": [],
   "source": []
  },
  {
   "cell_type": "code",
   "execution_count": null,
   "metadata": {},
   "outputs": [],
   "source": []
  },
  {
   "cell_type": "code",
   "execution_count": null,
   "metadata": {},
   "outputs": [],
   "source": []
  },
  {
   "cell_type": "markdown",
   "metadata": {},
   "source": [
    "## Which fit is better and what does that tell us? (3 points)\n",
    "\n",
    "**Is the quadratic (degree 2) curve fit better or worse than the linear (degree 1) model? What does that tell you about the rate of increase in atmospheric CO$_2$ concentation with time?** \n",
    "\n",
    "*write your answer here*"
   ]
  },
  {
   "cell_type": "markdown",
   "metadata": {},
   "source": [
    "## What will CO2 concentrations be in 2050 (if the same trend continues)? (2 points)\n",
    "\n",
    "Using your preferred fit, calculate at the atmospheric CO$_2$ level would be if the data continues along this model in the year 2050. `np.polyval()` will allow you to do this"
   ]
  },
  {
   "cell_type": "code",
   "execution_count": null,
   "metadata": {},
   "outputs": [],
   "source": []
  },
  {
   "cell_type": "markdown",
   "metadata": {},
   "source": [
    "## Why is there a periodic oscillation in the data? (5 points)\n",
    "\n",
    "**You should see that there is periodic structure in the data and in the residual plot (zoom-in or make the plot long and skinny if you don't). What is the time-scale of this periodic variation? Do some research on your own and write up a paragraph describing why there is such up and down variability in addition to the long-term trend.**\n",
    "\n",
    "*write your answer here*"
   ]
  },
  {
   "cell_type": "code",
   "execution_count": null,
   "metadata": {},
   "outputs": [],
   "source": []
  },
  {
   "cell_type": "markdown",
   "metadata": {},
   "source": [
    "### Turn in the Notebook\n",
    "\n",
    "**Export as HTML and upload to bCourses.**"
   ]
  }
 ],
 "metadata": {
  "kernelspec": {
   "display_name": "Python 3",
   "language": "python",
   "name": "python3"
  },
  "language_info": {
   "codemirror_mode": {
    "name": "ipython",
    "version": 3
   },
   "file_extension": ".py",
   "mimetype": "text/x-python",
   "name": "python",
   "nbconvert_exporter": "python",
   "pygments_lexer": "ipython3",
   "version": "3.7.7"
  }
 },
 "nbformat": 4,
 "nbformat_minor": 4
}
